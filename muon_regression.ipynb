{
 "cells": [
  {
   "cell_type": "code",
   "execution_count": 54,
   "id": "efc17dda",
   "metadata": {},
   "outputs": [],
   "source": [
    "import pandas as pd\n",
    "import numpy as np\n",
    "import xgboost as xgb\n",
    "import h5py\n",
    "import json\n",
    "import matplotlib.pyplot as plt\n",
    "import sparse"
   ]
  },
  {
   "cell_type": "code",
   "execution_count": 55,
   "id": "ac15295c",
   "metadata": {},
   "outputs": [],
   "source": [
    "path = \"/home/centos/data/cmu_challenge/\""
   ]
  },
  {
   "cell_type": "code",
   "execution_count": 3,
   "id": "e2c5ef2c",
   "metadata": {},
   "outputs": [],
   "source": [
    "#train = h5py.File(path + \"muon_calo_train-val.hdf5\") "
   ]
  },
  {
   "cell_type": "code",
   "execution_count": 14,
   "id": "df532644",
   "metadata": {},
   "outputs": [],
   "source": [
    "def get_data(file_name):\n",
    "    \n",
    "    file = h5py.File(path + file_name, \"r+\")\n",
    "    cont_feats = json.loads(file['meta_data/cont_feats'][()])\n",
    "    hl_inputs = file['fold_0/inputs'][()]  # muon x feature numpy array\n",
    "    targets = file['fold_0/targets'][()]  # muon x 1\n",
    "    file.close()\n",
    "    return hl_inputs, targets"
   ]
  },
  {
   "cell_type": "code",
   "execution_count": 16,
   "id": "a7ee102b",
   "metadata": {},
   "outputs": [],
   "source": [
    "X_train, y_train = get_data('muon_calo_train-val.hdf5')"
   ]
  },
  {
   "cell_type": "code",
   "execution_count": 17,
   "id": "4eafde5b",
   "metadata": {},
   "outputs": [],
   "source": [
    "X_test_labelled, y_test_labelled = get_data('muon_calo_test_labelled.hdf5')"
   ]
  },
  {
   "cell_type": "code",
   "execution_count": 18,
   "id": "0d4e30d6",
   "metadata": {},
   "outputs": [],
   "source": [
    "X_test, y_test = get_data('muon_calo_test.hdf5')"
   ]
  },
  {
   "cell_type": "markdown",
   "id": "ea077dbc",
   "metadata": {},
   "source": [
    "## Regression with a Boosted Decision Tree with high level features"
   ]
  },
  {
   "cell_type": "code",
   "execution_count": 42,
   "id": "d9ebe720",
   "metadata": {},
   "outputs": [],
   "source": [
    "# create an xgboost regression model\n",
    "bdt = xgb.XGBRegressor(objective='reg:squarederror')"
   ]
  },
  {
   "cell_type": "code",
   "execution_count": 43,
   "id": "0c17afc8",
   "metadata": {},
   "outputs": [
    {
     "data": {
      "text/plain": [
       "XGBRegressor(base_score=0.5, booster='gbtree', colsample_bylevel=1,\n",
       "             colsample_bynode=1, colsample_bytree=1, gamma=0, gpu_id=-1,\n",
       "             importance_type='gain', interaction_constraints='',\n",
       "             learning_rate=0.300000012, max_delta_step=0, max_depth=6,\n",
       "             min_child_weight=1, missing=nan, monotone_constraints='()',\n",
       "             n_estimators=100, n_jobs=8, num_parallel_tree=1, random_state=0,\n",
       "             reg_alpha=0, reg_lambda=1, scale_pos_weight=1, subsample=1,\n",
       "             tree_method='exact', validate_parameters=1, verbosity=None)"
      ]
     },
     "execution_count": 43,
     "metadata": {},
     "output_type": "execute_result"
    }
   ],
   "source": [
    "bdt.fit(X_train, y_train)"
   ]
  },
  {
   "cell_type": "code",
   "execution_count": 44,
   "id": "f9669301",
   "metadata": {},
   "outputs": [],
   "source": [
    "y_pred = bdt.predict(X_test_labelled) # Predictions"
   ]
  },
  {
   "cell_type": "code",
   "execution_count": 45,
   "id": "ed042ea8",
   "metadata": {},
   "outputs": [
    {
     "data": {
      "text/plain": [
       "array([ 763.88055, 7693.5693 , 6075.3896 , ..., 1672.1244 , 5234.692  ,\n",
       "       4435.0996 ], dtype=float32)"
      ]
     },
     "execution_count": 45,
     "metadata": {},
     "output_type": "execute_result"
    }
   ],
   "source": [
    "y_pred"
   ]
  },
  {
   "cell_type": "code",
   "execution_count": 51,
   "id": "a2f20d27",
   "metadata": {},
   "outputs": [
    {
     "data": {
      "text/plain": [
       "Text(0, 0.5, 'E_pred')"
      ]
     },
     "execution_count": 51,
     "metadata": {},
     "output_type": "execute_result"
    },
    {
     "data": {
      "image/png": "[encoded data removed]",
      "text/plain": [
       "<Figure size 432x288 with 1 Axes>"
      ]
     },
     "metadata": {
      "needs_background": "light"
     },
     "output_type": "display_data"
    }
   ],
   "source": [
    "plt.scatter(y_test_labelled, y_pred, s=0.1)\n",
    "plt.xlabel(\"E_true\")\n",
    "plt.ylabel(\"E_pred\")"
   ]
  },
  {
   "cell_type": "markdown",
   "id": "b9d97506",
   "metadata": {},
   "source": [
    "## Neural Network with high and low level features"
   ]
  },
  {
   "cell_type": "code",
   "execution_count": 65,
   "id": "5f0e51b1",
   "metadata": {},
   "outputs": [],
   "source": [
    "import torch\n",
    "from torch.utils.data import Dataset\n",
    "from torch.utils.data import DataLoader\n",
    "from torch import nn\n"
   ]
  },
  {
   "cell_type": "code",
   "execution_count": 59,
   "id": "d4010e72",
   "metadata": {},
   "outputs": [],
   "source": [
    "class MuonData(Dataset):\n",
    "    \n",
    "    def __init__(self, file_name):\n",
    "        \n",
    "        file = h5py.File(path + file_name, \"r+\")\n",
    "        cont_feats = json.loads(file['meta_data/cont_feats'][()])\n",
    "        self.hl_inputs = file['fold_0/inputs'][()]  # muon x feature numpy array\n",
    "        self.targets = file['fold_0/targets'][()]  # muon x 1\n",
    "        shape = json.loads(file['meta_data/matrix_feats'][()])['shape']\n",
    "        sparse_hits = file['fold_0/matrix_inputs'][()]\n",
    "        coords = sparse_hits[1:].astype(int)\n",
    "        self.hits = sparse.COO(coords=coords, data=sparse_hits[0], shape=[coords[0][-1]+1]+shape).todense()  # muon x 1 x 50 x 32 x 32\n",
    "        file.close()\n",
    "        \n",
    "    def __len__(self):\n",
    "        return len(targets)\n",
    "    \n",
    "    def __getitem__(self, idx): \n",
    "        return self.hl_inputs[idx], self.hits[idx], self.targets[idx]\n"
   ]
  },
  {
   "cell_type": "code",
   "execution_count": 60,
   "id": "0bdb29af",
   "metadata": {},
   "outputs": [],
   "source": [
    "training_data = MuonData('muon_calo_train-val.hdf5')"
   ]
  },
  {
   "cell_type": "code",
   "execution_count": 61,
   "id": "eab2a16d",
   "metadata": {},
   "outputs": [],
   "source": [
    "train_dataloader = DataLoader(training_data, batch_size=64, shuffle=True)"
   ]
  },
  {
   "cell_type": "code",
   "execution_count": 64,
   "id": "d3d35b78",
   "metadata": {},
   "outputs": [
    {
     "name": "stdout",
     "output_type": "stream",
     "text": [
      "torch.Size([64, 28]) torch.Size([64, 1, 50, 32, 32]) torch.Size([64])\n",
      "torch.Size([64, 28]) torch.Size([64, 1, 50, 32, 32]) torch.Size([64])\n",
      "torch.Size([64, 28]) torch.Size([64, 1, 50, 32, 32]) torch.Size([64])\n",
      "torch.Size([64, 28]) torch.Size([64, 1, 50, 32, 32]) torch.Size([64])\n",
      "torch.Size([64, 28]) torch.Size([64, 1, 50, 32, 32]) torch.Size([64])\n",
      "torch.Size([64, 28]) torch.Size([64, 1, 50, 32, 32]) torch.Size([64])\n"
     ]
    }
   ],
   "source": [
    "for i, (hits, hl_feats, labels) in enumerate(train_dataloader):\n",
    "    print(hits.shape, hl_feats.shape, labels.shape)\n",
    "    if i == 5: break"
   ]
  },
  {
   "cell_type": "code",
   "execution_count": null,
   "id": "f886f264",
   "metadata": {},
   "outputs": [],
   "source": [
    "\n",
    "class TwoInputsNet(nn.Module):\n",
    "    \n",
    "    def __init__(self):\n",
    "        super(TwoInputsNet, self).__init__()\n",
    "        self.conv = nn.Conv2d( ... )  # set up your layer here\n",
    "        self.fc1 = nn.Linear( ... )  # set up first FC layer\n",
    "        self.fc2 = nn.Linear( ... )  # set up the other FC layer\n",
    "\n",
    "    def forward(self, input1, input2):\n",
    "        c = self.conv(input1)\n",
    "        f = self.fc1(input2)\n",
    "        # now we can reshape `c` and `f` to 2D and concat them\n",
    "        combined = torch.cat((c.view(c.size(0), -1),\n",
    "                              f.view(f.size(0), -1)), dim=1)\n",
    "        out = self.fc2(combined)\n",
    "        return out"
   ]
  }
 ],
 "metadata": {
  "kernelspec": {
   "display_name": "Python 3",
   "language": "python",
   "name": "python3"
  },
  "language_info": {
   "codemirror_mode": {
    "name": "ipython",
    "version": 3
   },
   "file_extension": ".py",
   "mimetype": "text/x-python",
   "name": "python",
   "nbconvert_exporter": "python",
   "pygments_lexer": "ipython3",
   "version": "3.6.8"
  }
 },
 "nbformat": 4,
 "nbformat_minor": 5
}
