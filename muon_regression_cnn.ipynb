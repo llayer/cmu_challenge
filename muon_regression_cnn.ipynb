{
 "cells": [
  {
   "cell_type": "code",
   "execution_count": 1,
   "metadata": {},
   "outputs": [],
   "source": [
    "import pandas as pd\n",
    "import numpy as np\n",
    "import xgboost as xgb\n",
    "import h5py\n",
    "import json\n",
    "import matplotlib.pyplot as plt\n",
    "import sparse\n",
    "import torch\n",
    "from torch.utils.data import Dataset\n",
    "from torch.utils.data import DataLoader\n",
    "from torch import nn, Tensor\n",
    "import numpy as np\n",
    "from typing import *\n",
    "from pathlib import Path\n",
    "import math"
   ]
  },
  {
   "cell_type": "code",
   "execution_count": 2,
   "metadata": {},
   "outputs": [],
   "source": [
    "from metric import compute_improvement"
   ]
  },
  {
   "cell_type": "code",
   "execution_count": 3,
   "metadata": {},
   "outputs": [],
   "source": [
    "PATH = Path(\"/home/centos/mount_point/data/cmu_challenge/\")"
   ]
  },
  {
   "cell_type": "markdown",
   "metadata": {},
   "source": [
    "## Neural Network with low level features"
   ]
  },
  {
   "cell_type": "code",
   "execution_count": 4,
   "metadata": {},
   "outputs": [],
   "source": [
    "class MuonData(Dataset):\n",
    "    def __init__(self, file_name):\n",
    "        self.file_name = file_name\n",
    "        self.open_file()\n",
    "        \n",
    "    def __len__(self) -> int:\n",
    "        return self.len\n",
    "    \n",
    "    def __del__(self) -> None:\n",
    "        if hasattr(self, 'hits'): del self.hits\n",
    "        if hasattr(self, 'file'): self.file.close()\n",
    "            \n",
    "    def open_file(self) -> None:\n",
    "        self.file = h5py.File(self.file_name, \"r\")\n",
    "        self.shape = json.loads(self.file['meta_data/matrix_feats'][()])['shape']\n",
    "        all_hits = self.file['fold_0/matrix_inputs']\n",
    "        coords = all_hits[1:].astype(int)\n",
    "        self.hits = sparse.COO(coords=coords, data=all_hits[0], shape=[coords[0][-1]+1]+self.shape)\n",
    "        self.hl_inputs = self.file['fold_0/inputs'][()]\n",
    "        self.targets = self.file['fold_0/targets'][()]\n",
    "        self.len = len(self.file['fold_0/targets'])\n",
    "    \n",
    "    def __getitem__(self, idx) -> Tuple[np.ndarray, np.ndarray, float]: \n",
    "        if not hasattr(self, 'file'): self.open_file()\n",
    "        return self.hl_inputs[idx], self.hits[idx].todense(), self.targets[idx]"
   ]
  },
  {
   "cell_type": "markdown",
   "metadata": {},
   "source": [
    "%%time\n",
    "_ = training_data[0]"
   ]
  },
  {
   "cell_type": "code",
   "execution_count": 5,
   "metadata": {},
   "outputs": [],
   "source": [
    "class cnn3d(nn.Module):\n",
    "    def __init__(self, n_layers_per_res:int=1, channel_coef:float=1.5, device:Optional[torch.device]=None):\n",
    "        super().__init__()\n",
    "        if device is None: device = torch.device('cuda') if torch.cuda.is_available() else torch.device('cpu')\n",
    "        self.device = device\n",
    "        self.conv_layers = self._build_conv_layers(n_layers_per_res, channel_coef).to(self.device)\n",
    "        self.n_conv_out = self._compute_conv_out()\n",
    "        self.fc_layers = self._build_fc_layers().to(self.device)\n",
    "\n",
    "    def flatten_x(self, x:Tensor) -> Tensor:\n",
    "        return x.view(x.size(0),-1)  # flatten tensor to (N, M), could be replaced by a pooling layer\n",
    "\n",
    "    def _compute_conv_out(self) -> int:\n",
    "        with torch.no_grad():\n",
    "            self.conv_layers.eval()\n",
    "            x = torch.zeros((1,1,50,32,32), device=self.device)\n",
    "            x = self.conv_layers(x)\n",
    "            x = self.flatten_x(x)\n",
    "        self.conv_layers.train()\n",
    "        return x.shape[1]  # number of features per muon\n",
    "\n",
    "    def _build_conv_layers(self, n_layers_per_res:int, channel_coef:float) -> nn.Sequential:\n",
    "        layers = []\n",
    "        n_in = 1\n",
    "        kernel_sz = 3\n",
    "\n",
    "        for i in range(4):\n",
    "            for j in range(n_layers_per_res):\n",
    "                if j == 0:\n",
    "                    # Downsample\n",
    "                    stride = 2\n",
    "                    if i == 0:\n",
    "                        n_out = 8  #  large upscale on first downsample\n",
    "                    else:\n",
    "                        n_out = int(n_in*channel_coef)\n",
    "                else:\n",
    "                    stride = 1\n",
    "                    n_out = n_in\n",
    "                layers.append(self._get_conv_layer(n_in=n_in, n_out=n_out, kernel_sz=kernel_sz, stride=stride))\n",
    "                n_in = n_out\n",
    "        return nn.Sequential(*layers)\n",
    "    \n",
    "    def _get_conv_layer(self, n_in:int, n_out:int, kernel_sz:Union[int,Tuple[int,int,int]],\n",
    "                        stride:int=1, padding:Union[str,int,Tuple[int,int,int]]='auto') -> nn.Sequential:\n",
    "        layers = []\n",
    "        \n",
    "        if padding == 'auto': padding = kernel_sz//2 if isinstance(kernel_sz, int) else [i//2 for i in kernel_sz]\n",
    "        layers.append(nn.Conv3d(in_channels=n_in, out_channels=n_out, kernel_size=kernel_sz,\n",
    "                                padding=padding, stride=stride, bias=False))\n",
    "        nn.init.kaiming_normal_(layers[-1].weight, nonlinearity='relu', a=0)\n",
    "        layers.append(nn.ReLU())\n",
    "        return nn.Sequential(*layers)\n",
    "\n",
    "    def _get_fc_layer(self, n_in:int, n_out:int, act:bool=True) -> nn.Sequential:\n",
    "        layers = []\n",
    "        layers.append(nn.Linear(n_in, n_out))\n",
    "        nn.init.kaiming_normal_(layers[-1].weight, nonlinearity='relu', a=0)\n",
    "        nn.init.zeros_(layers[-1].bias)\n",
    "        if act: layers.append(nn.ReLU())\n",
    "        return nn.Sequential(*layers)\n",
    "\n",
    "    def _build_fc_layers(self) -> nn.Sequential:\n",
    "        layers = []\n",
    "        n_in = self.n_conv_out\n",
    "        for i in range(2):\n",
    "            n_out = np.max((1,n_in//2))\n",
    "            layers.append(self._get_fc_layer(n_in, n_out))\n",
    "            n_in = n_out\n",
    "        layers.append(self._get_fc_layer(n_in=n_in, n_out=1, act=False))  # Final layer single output, linear activation\n",
    "        return nn.Sequential(*layers)\n",
    "\n",
    "    def forward(self, x:Tensor) -> Tensor:\n",
    "        x = self.conv_layers(x)\n",
    "        x = self.flatten_x(x)\n",
    "        x = self.fc_layers(x)\n",
    "        return x"
   ]
  },
  {
   "cell_type": "code",
   "execution_count": 6,
   "metadata": {},
   "outputs": [],
   "source": [
    "net = cnn3d()"
   ]
  },
  {
   "cell_type": "code",
   "execution_count": 7,
   "metadata": {},
   "outputs": [
    {
     "data": {
      "text/plain": [
       "cnn3d(\n",
       "  (conv_layers): Sequential(\n",
       "    (0): Sequential(\n",
       "      (0): Conv3d(1, 8, kernel_size=(3, 3, 3), stride=(2, 2, 2), padding=(1, 1, 1), bias=False)\n",
       "      (1): ReLU()\n",
       "    )\n",
       "    (1): Sequential(\n",
       "      (0): Conv3d(8, 12, kernel_size=(3, 3, 3), stride=(2, 2, 2), padding=(1, 1, 1), bias=False)\n",
       "      (1): ReLU()\n",
       "    )\n",
       "    (2): Sequential(\n",
       "      (0): Conv3d(12, 18, kernel_size=(3, 3, 3), stride=(2, 2, 2), padding=(1, 1, 1), bias=False)\n",
       "      (1): ReLU()\n",
       "    )\n",
       "    (3): Sequential(\n",
       "      (0): Conv3d(18, 27, kernel_size=(3, 3, 3), stride=(2, 2, 2), padding=(1, 1, 1), bias=False)\n",
       "      (1): ReLU()\n",
       "    )\n",
       "  )\n",
       "  (fc_layers): Sequential(\n",
       "    (0): Sequential(\n",
       "      (0): Linear(in_features=432, out_features=216, bias=True)\n",
       "      (1): ReLU()\n",
       "    )\n",
       "    (1): Sequential(\n",
       "      (0): Linear(in_features=216, out_features=108, bias=True)\n",
       "      (1): ReLU()\n",
       "    )\n",
       "    (2): Sequential(\n",
       "      (0): Linear(in_features=108, out_features=1, bias=True)\n",
       "    )\n",
       "  )\n",
       ")"
      ]
     },
     "execution_count": 7,
     "metadata": {},
     "output_type": "execute_result"
    }
   ],
   "source": [
    "net"
   ]
  },
  {
   "cell_type": "markdown",
   "metadata": {},
   "source": [
    "%%time\n",
    "train_dataloader = DataLoader(training_data, batch_size=256, shuffle=True)\n",
    "for i, b in enumerate(train_dataloader):\n",
    "    net(b[1].to(net.device))\n",
    "    if i == 10: break"
   ]
  },
  {
   "cell_type": "markdown",
   "metadata": {},
   "source": [
    "%%time\n",
    "train_dataloader = DataLoader(training_data, batch_size=256, shuffle=True, num_workers=2)\n",
    "for i, b in enumerate(train_dataloader):\n",
    "    net(b[1].to(net.device))\n",
    "    if i == 10: break"
   ]
  },
  {
   "cell_type": "markdown",
   "metadata": {},
   "source": [
    "%%time\n",
    "train_dataloader = DataLoader(training_data, batch_size=256, shuffle=True, num_workers=4)\n",
    "for i, b in enumerate(train_dataloader):\n",
    "    net(b[1].to(net.device))\n",
    "    if i == 10: break"
   ]
  },
  {
   "cell_type": "markdown",
   "metadata": {},
   "source": [
    "## Training loop"
   ]
  },
  {
   "cell_type": "code",
   "execution_count": 8,
   "metadata": {},
   "outputs": [],
   "source": [
    "loss_fn = nn.MSELoss()"
   ]
  },
  {
   "cell_type": "code",
   "execution_count": 9,
   "metadata": {},
   "outputs": [],
   "source": [
    "optimizer = torch.optim.Adam(net.parameters())"
   ]
  },
  {
   "cell_type": "code",
   "execution_count": 10,
   "metadata": {},
   "outputs": [],
   "source": [
    "training_data = MuonData(PATH/'muon_calo_train.hdf5')"
   ]
  },
  {
   "cell_type": "code",
   "execution_count": 11,
   "metadata": {},
   "outputs": [],
   "source": [
    "val_data = MuonData(PATH/'muon_calo_val.hdf5')"
   ]
  },
  {
   "cell_type": "code",
   "execution_count": 12,
   "metadata": {},
   "outputs": [],
   "source": [
    "train_dataloader = DataLoader(training_data, batch_size=256, shuffle=True, num_workers=4)\n",
    "val_dataloader = DataLoader(val_data, batch_size=1000, shuffle=False, num_workers=4)"
   ]
  },
  {
   "cell_type": "code",
   "execution_count": 13,
   "metadata": {},
   "outputs": [],
   "source": [
    "def train_loop(dataloader, model, loss_fn, optimizer):\n",
    "    size = len(dataloader.dataset)\n",
    "    model.train()\n",
    "    for batch, (hl_feats, hits, labels) in enumerate(dataloader):\n",
    "        \n",
    "        hits, labels = hits.to(net.device), labels.to(net.device)\n",
    "        labels = labels.unsqueeze(1)\n",
    "        # Compute prediction and loss\n",
    "        pred = model(hits)\n",
    "        loss = loss_fn(pred, labels)\n",
    "\n",
    "        # Backpropagation\n",
    "        optimizer.zero_grad()\n",
    "        loss.backward()\n",
    "        optimizer.step()\n",
    "\n",
    "        if batch % 100 == 0:\n",
    "            loss, current = loss.item(), batch * len(hits)\n",
    "            print(f\"loss: {loss:>7f}  [{current:>5d}/{size:>5d}]\")"
   ]
  },
  {
   "cell_type": "code",
   "execution_count": 21,
   "metadata": {},
   "outputs": [],
   "source": [
    "def test_loop(dataloader, model, loss_fn):\n",
    "    size = len(dataloader.dataset)\n",
    "    num_batches = len(dataloader)\n",
    "    test_loss = 0\n",
    "    model.eval()\n",
    "    with torch.no_grad():\n",
    "        for hl_feats, hits, labels in dataloader:\n",
    "            hits, labels = hits.to(net.device), labels.to(net.device)\n",
    "            labels = labels.unsqueeze(1)\n",
    "            pred = model(hits)\n",
    "            test_loss += loss_fn(pred,labels).data.item()\n",
    "\n",
    "    test_loss /= num_batches\n",
    "    print(\"Test Error:\", test_loss)\n",
    "    return test_loss"
   ]
  },
  {
   "cell_type": "code",
   "execution_count": 22,
   "metadata": {},
   "outputs": [],
   "source": [
    "def save_best_model(net:nn.Module, save_path:Path) -> None:\n",
    "    save_path.mkdir(parents=True, exist_ok=True)\n",
    "    torch.save({'model':net.state_dict()}, str(save_path/'best.pt'))"
   ]
  },
  {
   "cell_type": "code",
   "execution_count": 23,
   "metadata": {},
   "outputs": [],
   "source": [
    "def load_best_model(net:nn.Module, load_path:Path) -> None:\n",
    "    state = torch.load(str(load_path/'best.pt'), map_location=net.device.type)\n",
    "    net.load_state_dict(state['model'])"
   ]
  },
  {
   "cell_type": "code",
   "execution_count": 24,
   "metadata": {},
   "outputs": [
    {
     "name": "stdout",
     "output_type": "stream",
     "text": [
      "Epoch 1\n",
      "-------------------------------\n",
      "loss: 3491600.250000  [    0/88675]\n",
      "loss: 2692206.000000  [25600/88675]\n",
      "loss: 2724675.500000  [51200/88675]\n",
      "loss: 2936344.500000  [76800/88675]\n",
      "Test Error: 3144557.8981481483\n",
      "Epoch 2\n",
      "-------------------------------\n",
      "loss: 3034490.250000  [    0/88675]\n",
      "loss: 2688996.500000  [25600/88675]\n",
      "loss: 3238533.500000  [51200/88675]\n",
      "loss: 2496553.500000  [76800/88675]\n",
      "Test Error: 3134506.861111111\n",
      "Epoch 3\n",
      "-------------------------------\n",
      "loss: 2875173.750000  [    0/88675]\n",
      "loss: 3146677.750000  [25600/88675]\n",
      "loss: 3139874.000000  [51200/88675]\n",
      "loss: 3466814.750000  [76800/88675]\n",
      "Test Error: 3063475.6481481483\n",
      "Done!\n",
      "CPU times: user 34 s, sys: 36.2 s, total: 1min 10s\n",
      "Wall time: 1min 15s\n"
     ]
    }
   ],
   "source": [
    "%%time\n",
    "epochs = 3\n",
    "lowest_loss = math.inf\n",
    "save_path = Path('weights')\n",
    "for t in range(epochs):\n",
    "    print(f\"Epoch {t+1}\\n-------------------------------\")\n",
    "    train_loop(train_dataloader, net, loss_fn, optimizer)\n",
    "    loss = test_loop(val_dataloader, net, loss_fn)\n",
    "    if loss < lowest_loss:\n",
    "        save_best_model(net, save_path)\n",
    "        lowest_loss = loss\n",
    "print(\"Done!\")"
   ]
  },
  {
   "cell_type": "code",
   "execution_count": 25,
   "metadata": {},
   "outputs": [],
   "source": [
    "load_best_model(net, save_path)"
   ]
  },
  {
   "cell_type": "markdown",
   "metadata": {},
   "source": [
    "## Validation"
   ]
  },
  {
   "cell_type": "code",
   "execution_count": 26,
   "metadata": {},
   "outputs": [],
   "source": [
    "def create_submission(dataloader, model):\n",
    "        \n",
    "    predictions = []\n",
    "    targets = []\n",
    "    model.eval()\n",
    "    with torch.no_grad():\n",
    "        for hl_feats, hits, labels in dataloader:\n",
    "            hits = hits.to(net.device)\n",
    "            predictions.append(model(hits).cpu().detach().numpy())\n",
    "            targets.append(labels)\n",
    "    predictions = np.concatenate(predictions, axis=0)\n",
    "    targets = np.concatenate(targets, axis=0)\n",
    "    return predictions, targets"
   ]
  },
  {
   "cell_type": "code",
   "execution_count": 27,
   "metadata": {},
   "outputs": [],
   "source": [
    "preds, targs = create_submission(val_dataloader, net)"
   ]
  },
  {
   "cell_type": "code",
   "execution_count": 28,
   "metadata": {},
   "outputs": [],
   "source": [
    "df = pd.DataFrame({'pred': preds.squeeze(), 'target': targs})"
   ]
  },
  {
   "cell_type": "code",
   "execution_count": 29,
   "metadata": {},
   "outputs": [
    {
     "data": {
      "text/html": [
       "<div>\n",
       "<style scoped>\n",
       "    .dataframe tbody tr th:only-of-type {\n",
       "        vertical-align: middle;\n",
       "    }\n",
       "\n",
       "    .dataframe tbody tr th {\n",
       "        vertical-align: top;\n",
       "    }\n",
       "\n",
       "    .dataframe thead th {\n",
       "        text-align: right;\n",
       "    }\n",
       "</style>\n",
       "<table border=\"1\" class=\"dataframe\">\n",
       "  <thead>\n",
       "    <tr style=\"text-align: right;\">\n",
       "      <th></th>\n",
       "      <th>pred</th>\n",
       "      <th>target</th>\n",
       "    </tr>\n",
       "  </thead>\n",
       "  <tbody>\n",
       "    <tr>\n",
       "      <th>0</th>\n",
       "      <td>4908.295410</td>\n",
       "      <td>5709.742676</td>\n",
       "    </tr>\n",
       "    <tr>\n",
       "      <th>1</th>\n",
       "      <td>4323.287598</td>\n",
       "      <td>5540.189453</td>\n",
       "    </tr>\n",
       "    <tr>\n",
       "      <th>2</th>\n",
       "      <td>6110.408691</td>\n",
       "      <td>2945.265869</td>\n",
       "    </tr>\n",
       "    <tr>\n",
       "      <th>3</th>\n",
       "      <td>4181.826172</td>\n",
       "      <td>5475.326660</td>\n",
       "    </tr>\n",
       "    <tr>\n",
       "      <th>4</th>\n",
       "      <td>6214.262207</td>\n",
       "      <td>7548.465332</td>\n",
       "    </tr>\n",
       "  </tbody>\n",
       "</table>\n",
       "</div>"
      ],
      "text/plain": [
       "          pred       target\n",
       "0  4908.295410  5709.742676\n",
       "1  4323.287598  5540.189453\n",
       "2  6110.408691  2945.265869\n",
       "3  4181.826172  5475.326660\n",
       "4  6214.262207  7548.465332"
      ]
     },
     "execution_count": 29,
     "metadata": {},
     "output_type": "execute_result"
    }
   ],
   "source": [
    "df.head()"
   ]
  },
  {
   "cell_type": "code",
   "execution_count": 30,
   "metadata": {},
   "outputs": [
    {
     "data": {
      "image/png": "[encoded data removed]",
      "text/plain": [
       "<Figure size 1024x576 with 1 Axes>"
      ]
     },
     "metadata": {},
     "output_type": "display_data"
    },
    {
     "data": {
      "text/plain": [
       "0.12933833871657768"
      ]
     },
     "execution_count": 30,
     "metadata": {},
     "output_type": "execute_result"
    }
   ],
   "source": [
    "compute_improvement(df)"
   ]
  },
  {
   "cell_type": "markdown",
   "metadata": {},
   "source": [
    "## Submission"
   ]
  },
  {
   "cell_type": "code",
   "execution_count": null,
   "metadata": {},
   "outputs": [],
   "source": [
    "del training_data, train_dataloader, val_data, val_dataloader"
   ]
  },
  {
   "cell_type": "code",
   "execution_count": 37,
   "metadata": {},
   "outputs": [],
   "source": [
    "sub_data = MuonData(PATH/'muon_calo_test.hdf5')"
   ]
  },
  {
   "cell_type": "code",
   "execution_count": 38,
   "metadata": {},
   "outputs": [],
   "source": [
    "sub_dataloader = DataLoader(sub_data, batch_size=1000, shuffle=False, num_workers=4)"
   ]
  },
  {
   "cell_type": "code",
   "execution_count": 39,
   "metadata": {},
   "outputs": [
    {
     "name": "stdout",
     "output_type": "stream",
     "text": [
      "deleted\n",
      "deleted\n",
      "deleteddeleted\n",
      "\n"
     ]
    }
   ],
   "source": [
    "preds,_ = create_submission(sub_dataloader, net)"
   ]
  },
  {
   "cell_type": "code",
   "execution_count": 40,
   "metadata": {},
   "outputs": [],
   "source": [
    "df = pd.DataFrame(preds, columns=[\"prediction\"])"
   ]
  },
  {
   "cell_type": "code",
   "execution_count": 41,
   "metadata": {},
   "outputs": [
    {
     "data": {
      "text/html": [
       "<div>\n",
       "<style scoped>\n",
       "    .dataframe tbody tr th:only-of-type {\n",
       "        vertical-align: middle;\n",
       "    }\n",
       "\n",
       "    .dataframe tbody tr th {\n",
       "        vertical-align: top;\n",
       "    }\n",
       "\n",
       "    .dataframe thead th {\n",
       "        text-align: right;\n",
       "    }\n",
       "</style>\n",
       "<table border=\"1\" class=\"dataframe\">\n",
       "  <thead>\n",
       "    <tr style=\"text-align: right;\">\n",
       "      <th></th>\n",
       "      <th>prediction</th>\n",
       "    </tr>\n",
       "  </thead>\n",
       "  <tbody>\n",
       "    <tr>\n",
       "      <th>0</th>\n",
       "      <td>1281.522217</td>\n",
       "    </tr>\n",
       "    <tr>\n",
       "      <th>1</th>\n",
       "      <td>5418.889160</td>\n",
       "    </tr>\n",
       "    <tr>\n",
       "      <th>2</th>\n",
       "      <td>6039.638184</td>\n",
       "    </tr>\n",
       "    <tr>\n",
       "      <th>3</th>\n",
       "      <td>5037.421875</td>\n",
       "    </tr>\n",
       "    <tr>\n",
       "      <th>4</th>\n",
       "      <td>2838.672363</td>\n",
       "    </tr>\n",
       "  </tbody>\n",
       "</table>\n",
       "</div>"
      ],
      "text/plain": [
       "    prediction\n",
       "0  1281.522217\n",
       "1  5418.889160\n",
       "2  6039.638184\n",
       "3  5037.421875\n",
       "4  2838.672363"
      ]
     },
     "execution_count": 41,
     "metadata": {},
     "output_type": "execute_result"
    }
   ],
   "source": [
    "df.head()"
   ]
  },
  {
   "cell_type": "code",
   "execution_count": 42,
   "metadata": {},
   "outputs": [],
   "source": [
    "df.to_csv(\"test.csv\")"
   ]
  },
  {
   "cell_type": "code",
   "execution_count": 43,
   "metadata": {},
   "outputs": [
    {
     "name": "stdout",
     "output_type": "stream",
     "text": [
      "deleted\n"
     ]
    }
   ],
   "source": [
    "del sub_data, sub_dataloader"
   ]
  },
  {
   "cell_type": "code",
   "execution_count": null,
   "metadata": {},
   "outputs": [],
   "source": []
  }
 ],
 "metadata": {
  "kernelspec": {
   "display_name": "Python 3",
   "language": "python",
   "name": "python3"
  },
  "language_info": {
   "codemirror_mode": {
    "name": "ipython",
    "version": 3
   },
   "file_extension": ".py",
   "mimetype": "text/x-python",
   "name": "python",
   "nbconvert_exporter": "python",
   "pygments_lexer": "ipython3",
   "version": "3.8.5"
  }
 },
 "nbformat": 4,
 "nbformat_minor": 5
}
