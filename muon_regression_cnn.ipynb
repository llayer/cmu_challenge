{
 "cells": [
  {
   "cell_type": "code",
   "execution_count": 1,
   "metadata": {},
   "outputs": [],
   "source": [
    "import pandas as pd\n",
    "import numpy as np\n",
    "import xgboost as xgb\n",
    "import h5py\n",
    "import json\n",
    "import matplotlib.pyplot as plt\n",
    "import sparse\n",
    "import torch\n",
    "from torch.utils.data import Dataset\n",
    "from torch.utils.data import DataLoader\n",
    "from torch import nn, Tensor\n",
    "import numpy as np\n",
    "from typing import *\n",
    "from pathlib import Path"
   ]
  },
  {
   "cell_type": "code",
   "execution_count": 2,
   "metadata": {},
   "outputs": [],
   "source": [
    "PATH = Path(\"/home/centos/data/cmu_challenge/\")"
   ]
  },
  {
   "cell_type": "markdown",
   "metadata": {},
   "source": [
    "## Neural Network with low level features"
   ]
  },
  {
   "cell_type": "code",
   "execution_count": 14,
   "metadata": {},
   "outputs": [],
   "source": [
    "class MuonData(Dataset):\n",
    "    def __init__(self, file_name):\n",
    "        self.file_name = file_name\n",
    "        with h5py.File(self.file_name, \"r\") as file:\n",
    "            self.len = len(file['fold_0/targets'])\n",
    "        \n",
    "    def __len__(self) -> int:\n",
    "        return self.len\n",
    "    \n",
    "    def __del__(self) -> None:\n",
    "        if hasattr(self, 'file'): self.file.close()\n",
    "            \n",
    "    def open_file(self) -> None:\n",
    "        self.file = h5py.File(self.file_name, \"r\")\n",
    "        self.shape = json.loads(self.file['meta_data/matrix_feats'][()])['shape']\n",
    "        all_hits = self.file['fold_0/matrix_inputs']\n",
    "        coords = all_hits[1:].astype(int)\n",
    "        self.hits = sparse.COO(coords=coords, data=all_hits[0], shape=[coords[0][-1]+1]+self.shape)\n",
    "        self.hl_inputs = self.file['fold_0/inputs'][()]\n",
    "        self.targets = self.file['fold_0/targets'][()]\n",
    "    \n",
    "    def __getitem__(self, idx) -> Tuple[np.ndarray, np.ndarray, float]: \n",
    "        if not hasattr(self, 'file'): self.open_file()\n",
    "        return self.hl_inputs[idx], self.hits[idx].todense(), self.targets[idx]"
   ]
  },
  {
   "cell_type": "code",
   "execution_count": 15,
   "metadata": {},
   "outputs": [],
   "source": [
    "training_data = MuonData(PATH/'muon_calo_train.hdf5')"
   ]
  },
  {
   "cell_type": "code",
   "execution_count": 16,
   "metadata": {},
   "outputs": [
    {
     "data": {
      "text/plain": [
       "88675"
      ]
     },
     "execution_count": 16,
     "metadata": {},
     "output_type": "execute_result"
    }
   ],
   "source": [
    "len(training_data)"
   ]
  },
  {
   "cell_type": "code",
   "execution_count": 6,
   "metadata": {},
   "outputs": [
    {
     "name": "stdout",
     "output_type": "stream",
     "text": [
      "CPU times: user 26.9 s, sys: 11.9 s, total: 38.9 s\n",
      "Wall time: 38.7 s\n"
     ]
    }
   ],
   "source": [
    "%%time\n",
    "_ = training_data[0]"
   ]
  },
  {
   "cell_type": "code",
   "execution_count": 7,
   "metadata": {},
   "outputs": [
    {
     "name": "stdout",
     "output_type": "stream",
     "text": [
      "torch.Size([16, 28]) torch.Size([16, 1, 50, 32, 32]) torch.Size([16])\n",
      "torch.Size([16, 28]) torch.Size([16, 1, 50, 32, 32]) torch.Size([16])\n",
      "torch.Size([16, 28]) torch.Size([16, 1, 50, 32, 32]) torch.Size([16])\n"
     ]
    }
   ],
   "source": [
    "for i, (hits, hl_feats, labels) in enumerate(DataLoader(training_data, batch_size=16, shuffle=True)):\n",
    "    print(hits.shape, hl_feats.shape, labels.shape)\n",
    "    if i == 2: break"
   ]
  },
  {
   "cell_type": "code",
   "execution_count": 8,
   "metadata": {},
   "outputs": [],
   "source": [
    "class cnn3d(nn.Module):\n",
    "    def __init__(self, n_layers_per_res:int=1, channel_coef:float=1.5, device:Optional[torch.device]=None):\n",
    "        super().__init__()\n",
    "        if device is None: device = torch.device('cuda') if torch.cuda.is_available() else torch.device('cpu')\n",
    "        self.device = device\n",
    "        self.conv_layers = self._build_conv_layers(n_layers_per_res, channel_coef).to(self.device)\n",
    "        self.n_conv_out = self._compute_conv_out()\n",
    "        self.fc_layers = self._build_fc_layers().to(self.device)\n",
    "\n",
    "    def flatten_x(self, x:Tensor) -> Tensor:\n",
    "        return x.view(x.size(0),-1)  # flatten tensor to (N, M), could be replaced by a pooling layer\n",
    "\n",
    "    def _compute_conv_out(self) -> int:\n",
    "        with torch.no_grad():\n",
    "            self.conv_layers.eval()\n",
    "            x = torch.zeros((1,1,50,32,32), device=self.device)\n",
    "            x = self.conv_layers(x)\n",
    "            x = self.flatten_x(x)\n",
    "        self.conv_layers.train()\n",
    "        return x.shape[1]  # number of features per muon\n",
    "\n",
    "    def _build_conv_layers(self, n_layers_per_res:int, channel_coef:float) -> nn.Sequential:\n",
    "        layers = []\n",
    "        n_in = 1\n",
    "        kernel_sz = 3\n",
    "\n",
    "        for i in range(4):\n",
    "            for j in range(n_layers_per_res):\n",
    "                if j == 0:\n",
    "                    # Downsample\n",
    "                    stride = 2\n",
    "                    if i == 0:\n",
    "                        n_out = 8  #  large upscale on first downsample\n",
    "                    else:\n",
    "                        n_out = int(n_in*channel_coef)\n",
    "                else:\n",
    "                    stride = 1\n",
    "                    n_out = n_in\n",
    "                layers.append(self._get_conv_layer(n_in=n_in, n_out=n_out, kernel_sz=kernel_sz, stride=stride))\n",
    "                n_in = n_out\n",
    "        return nn.Sequential(*layers)\n",
    "    \n",
    "    def _get_conv_layer(self, n_in:int, n_out:int, kernel_sz:Union[int,Tuple[int,int,int]],\n",
    "                        stride:int=1, padding:Union[str,int,Tuple[int,int,int]]='auto') -> nn.Sequential:\n",
    "        layers = []\n",
    "        \n",
    "        if padding == 'auto': padding = kernel_sz//2 if isinstance(kernel_sz, int) else [i//2 for i in kernel_sz]\n",
    "        layers.append(nn.Conv3d(in_channels=n_in, out_channels=n_out, kernel_size=kernel_sz,\n",
    "                                padding=padding, stride=stride, bias=False))\n",
    "        nn.init.kaiming_normal_(layers[-1].weight, nonlinearity='relu', a=0)\n",
    "        layers.append(nn.ReLU())\n",
    "        return nn.Sequential(*layers)\n",
    "\n",
    "    def _get_fc_layer(self, n_in:int, n_out:int, act:bool=True) -> nn.Sequential:\n",
    "        layers = []\n",
    "        layers.append(nn.Linear(n_in, n_out))\n",
    "        nn.init.kaiming_normal_(layers[-1].weight, nonlinearity='relu', a=0)\n",
    "        nn.init.zeros_(layers[-1].bias)\n",
    "        if act: layers.append(nn.ReLU())\n",
    "        return nn.Sequential(*layers)\n",
    "\n",
    "    def _build_fc_layers(self) -> nn.Sequential:\n",
    "        layers = []\n",
    "        n_in = self.n_conv_out\n",
    "        for i in range(2):\n",
    "            n_out = np.max((1,n_in//2))\n",
    "            layers.append(self._get_fc_layer(n_in, n_out))\n",
    "            n_in = n_out\n",
    "        layers.append(self._get_fc_layer(n_in=n_in, n_out=1, act=False))  # Final layer single output, linear activation\n",
    "        return nn.Sequential(*layers)\n",
    "\n",
    "    def forward(self, x:Tensor) -> Tensor:\n",
    "        x = self.conv_layers(x)\n",
    "        x = self.flatten_x(x)\n",
    "        x = self.fc_layers(x)\n",
    "        return x"
   ]
  },
  {
   "cell_type": "code",
   "execution_count": 9,
   "metadata": {},
   "outputs": [],
   "source": [
    "net = cnn3d()"
   ]
  },
  {
   "cell_type": "code",
   "execution_count": 10,
   "metadata": {},
   "outputs": [
    {
     "data": {
      "text/plain": [
       "cnn3d(\n",
       "  (conv_layers): Sequential(\n",
       "    (0): Sequential(\n",
       "      (0): Conv3d(1, 8, kernel_size=(3, 3, 3), stride=(2, 2, 2), padding=(1, 1, 1), bias=False)\n",
       "      (1): ReLU()\n",
       "    )\n",
       "    (1): Sequential(\n",
       "      (0): Conv3d(8, 12, kernel_size=(3, 3, 3), stride=(2, 2, 2), padding=(1, 1, 1), bias=False)\n",
       "      (1): ReLU()\n",
       "    )\n",
       "    (2): Sequential(\n",
       "      (0): Conv3d(12, 18, kernel_size=(3, 3, 3), stride=(2, 2, 2), padding=(1, 1, 1), bias=False)\n",
       "      (1): ReLU()\n",
       "    )\n",
       "    (3): Sequential(\n",
       "      (0): Conv3d(18, 27, kernel_size=(3, 3, 3), stride=(2, 2, 2), padding=(1, 1, 1), bias=False)\n",
       "      (1): ReLU()\n",
       "    )\n",
       "  )\n",
       "  (fc_layers): Sequential(\n",
       "    (0): Sequential(\n",
       "      (0): Linear(in_features=432, out_features=216, bias=True)\n",
       "      (1): ReLU()\n",
       "    )\n",
       "    (1): Sequential(\n",
       "      (0): Linear(in_features=216, out_features=108, bias=True)\n",
       "      (1): ReLU()\n",
       "    )\n",
       "    (2): Sequential(\n",
       "      (0): Linear(in_features=108, out_features=1, bias=True)\n",
       "    )\n",
       "  )\n",
       ")"
      ]
     },
     "execution_count": 10,
     "metadata": {},
     "output_type": "execute_result"
    }
   ],
   "source": [
    "net"
   ]
  },
  {
   "cell_type": "code",
   "execution_count": 18,
   "metadata": {},
   "outputs": [
    {
     "name": "stdout",
     "output_type": "stream",
     "text": [
      "CPU times: user 1min 6s, sys: 2.29 s, total: 1min 9s\n",
      "Wall time: 1.95 s\n"
     ]
    }
   ],
   "source": [
    "%%time\n",
    "train_dataloader = DataLoader(training_data, batch_size=256, shuffle=True)\n",
    "for i, b in enumerate(train_dataloader):\n",
    "    net(b[1].to(net.device))\n",
    "    if i == 10: break"
   ]
  },
  {
   "cell_type": "code",
   "execution_count": 12,
   "metadata": {},
   "outputs": [
    {
     "name": "stdout",
     "output_type": "stream",
     "text": [
      "CPU times: user 6.55 s, sys: 557 ms, total: 7.11 s\n",
      "Wall time: 1.4 s\n"
     ]
    }
   ],
   "source": [
    "%%time\n",
    "train_dataloader = DataLoader(training_data, batch_size=256, shuffle=True, num_workers=2)\n",
    "for i, b in enumerate(train_dataloader):\n",
    "    net(b[1].to(net.device))\n",
    "    if i == 10: break"
   ]
  },
  {
   "cell_type": "code",
   "execution_count": 13,
   "metadata": {},
   "outputs": [
    {
     "name": "stdout",
     "output_type": "stream",
     "text": [
      "CPU times: user 6.43 s, sys: 637 ms, total: 7.07 s\n",
      "Wall time: 1.06 s\n"
     ]
    }
   ],
   "source": [
    "%%time\n",
    "train_dataloader = DataLoader(training_data, batch_size=256, shuffle=True, num_workers=4)\n",
    "for i, b in enumerate(train_dataloader):\n",
    "    net(b[1].to(net.device))\n",
    "    if i == 10: break"
   ]
  },
  {
   "cell_type": "code",
   "execution_count": null,
   "metadata": {},
   "outputs": [],
   "source": []
  }
 ],
 "metadata": {
  "kernelspec": {
   "display_name": "Python 3",
   "language": "python",
   "name": "python3"
  },
  "language_info": {
   "codemirror_mode": {
    "name": "ipython",
    "version": 3
   },
   "file_extension": ".py",
   "mimetype": "text/x-python",
   "name": "python",
   "nbconvert_exporter": "python",
   "pygments_lexer": "ipython3",
   "version": "3.8.5"
  }
 },
 "nbformat": 4,
 "nbformat_minor": 5
}
