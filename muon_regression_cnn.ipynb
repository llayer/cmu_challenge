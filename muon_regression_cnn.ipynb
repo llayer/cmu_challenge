{
 "cells": [
  {
   "cell_type": "markdown",
   "id": "06fe7716",
   "metadata": {},
   "source": [
    "# Deep learning for muon energy reconstruction in a high-granularity calorimeter"
   ]
  },
  {
   "cell_type": "markdown",
   "id": "69554643",
   "metadata": {},
   "source": [
    "Given the regularity of the detector configuration, processing of the raw data is also possible using 3D convolutional neural networks. This allows to exploit the granular information of the deposited energy pattern to learn high-level representations of the detector readout, which we could also combine with high-level information produced by physics-inspired statistical summaries."
   ]
  },
  {
   "cell_type": "code",
   "execution_count": 1,
   "id": "55da04ff",
   "metadata": {},
   "outputs": [],
   "source": [
    "import pandas as pd\n",
    "import numpy as np\n",
    "import xgboost as xgb\n",
    "import h5py\n",
    "import json\n",
    "import matplotlib.pyplot as plt\n",
    "import sparse\n",
    "import torch\n",
    "from torch.utils.data import Dataset\n",
    "from torch.utils.data import DataLoader\n",
    "from torch import nn, Tensor\n",
    "import numpy as np\n",
    "from typing import *\n",
    "from pathlib import Path\n",
    "import math"
   ]
  },
  {
   "cell_type": "code",
   "execution_count": 2,
   "id": "704b3f37",
   "metadata": {},
   "outputs": [],
   "source": [
    "from metric import compute_improvement"
   ]
  },
  {
   "cell_type": "code",
   "execution_count": 3,
   "id": "64061780",
   "metadata": {},
   "outputs": [],
   "source": [
    "PATH = Path(\"/home/centos/mount_point/data/cmu_challenge/\")"
   ]
  },
  {
   "cell_type": "markdown",
   "id": "0bb6f963",
   "metadata": {},
   "source": [
    "## Neural Network with low level features"
   ]
  },
  {
   "cell_type": "markdown",
   "id": "dff77c39",
   "metadata": {},
   "source": [
    "### Data loader"
   ]
  },
  {
   "cell_type": "code",
   "execution_count": 4,
   "id": "d617a351",
   "metadata": {},
   "outputs": [],
   "source": [
    "class MuonData(Dataset):\n",
    "    def __init__(self, file_name):\n",
    "        self.file_name = file_name\n",
    "        self.open_file()\n",
    "        \n",
    "    def __len__(self) -> int:\n",
    "        return self.len\n",
    "    \n",
    "    def __del__(self) -> None:\n",
    "        if hasattr(self, 'hits'): del self.hits\n",
    "        if hasattr(self, 'file'): self.file.close()\n",
    "            \n",
    "    def open_file(self) -> None:\n",
    "        self.file = h5py.File(self.file_name, \"r\")\n",
    "        self.shape = json.loads(self.file['meta_data/matrix_feats'][()])['shape']\n",
    "        all_hits = self.file['fold_0/matrix_inputs']\n",
    "        coords = all_hits[1:].astype(int)\n",
    "        self.hits = sparse.COO(coords=coords, data=all_hits[0], shape=[coords[0][-1]+1]+self.shape)\n",
    "        self.hl_inputs = self.file['fold_0/inputs'][()]\n",
    "        self.targets = self.file['fold_0/targets'][()]\n",
    "        self.len = len(self.file['fold_0/targets'])\n",
    "    \n",
    "    def __getitem__(self, idx) -> Tuple[np.ndarray, np.ndarray, float]: \n",
    "        if not hasattr(self, 'file'): self.open_file()\n",
    "        return self.hl_inputs[idx], self.hits[idx].todense(), self.targets[idx]"
   ]
  },
  {
   "cell_type": "markdown",
   "id": "fb233649",
   "metadata": {},
   "source": [
    "### Model"
   ]
  },
  {
   "cell_type": "markdown",
   "id": "1cff69a4",
   "metadata": {},
   "source": [
    "As a starting point we provide a 3D CNN model. The convolutional part of the model consists of blocks. The first block downsamples the data and increases the number of  channels to eight in the first down-sample, and then increase the number of channels at each downsample by a factor of 1.5. Adding further convolutional blocks makes the network deeper. Finally the output of the convolutional blocks is fed into fully connected layers."
   ]
  },
  {
   "cell_type": "code",
   "execution_count": 5,
   "id": "7cbd22e1",
   "metadata": {},
   "outputs": [],
   "source": [
    "class cnn3d(nn.Module):\n",
    "    def __init__(self, n_layers_per_res:int=1, channel_coef:float=1.5, device:Optional[torch.device]=None):\n",
    "        super().__init__()\n",
    "        if device is None: device = torch.device('cuda') if torch.cuda.is_available() else torch.device('cpu')\n",
    "        self.device = device\n",
    "        self.conv_layers = self._build_conv_layers(n_layers_per_res, channel_coef).to(self.device)\n",
    "        self.n_conv_out = self._compute_conv_out()\n",
    "        self.fc_layers = self._build_fc_layers().to(self.device)\n",
    "\n",
    "    def flatten_x(self, x:Tensor) -> Tensor:\n",
    "        return x.view(x.size(0),-1)  # flatten tensor to (N, M), could be replaced by a pooling layer\n",
    "\n",
    "    def _compute_conv_out(self) -> int:\n",
    "        with torch.no_grad():\n",
    "            self.conv_layers.eval()\n",
    "            x = torch.zeros((1,1,50,32,32), device=self.device)\n",
    "            x = self.conv_layers(x)\n",
    "            x = self.flatten_x(x)\n",
    "        self.conv_layers.train()\n",
    "        return x.shape[1]  # number of features per muon\n",
    "\n",
    "    def _build_conv_layers(self, n_layers_per_res:int, channel_coef:float) -> nn.Sequential:\n",
    "        layers = []\n",
    "        n_in = 1\n",
    "        kernel_sz = 3\n",
    "\n",
    "        for i in range(4):\n",
    "            for j in range(n_layers_per_res):\n",
    "                if j == 0:\n",
    "                    # Downsample\n",
    "                    stride = 2\n",
    "                    if i == 0:\n",
    "                        n_out = 8  #  large upscale on first downsample\n",
    "                    else:\n",
    "                        n_out = int(n_in*channel_coef)\n",
    "                else:\n",
    "                    stride = 1\n",
    "                    n_out = n_in\n",
    "                layers.append(self._get_conv_layer(n_in=n_in, n_out=n_out, kernel_sz=kernel_sz, stride=stride))\n",
    "                n_in = n_out\n",
    "        return nn.Sequential(*layers)\n",
    "    \n",
    "    def _get_conv_layer(self, n_in:int, n_out:int, kernel_sz:Union[int,Tuple[int,int,int]],\n",
    "                        stride:int=1, padding:Union[str,int,Tuple[int,int,int]]='auto') -> nn.Sequential:\n",
    "        layers = []\n",
    "        \n",
    "        if padding == 'auto': padding = kernel_sz//2 if isinstance(kernel_sz, int) else [i//2 for i in kernel_sz]\n",
    "        layers.append(nn.Conv3d(in_channels=n_in, out_channels=n_out, kernel_size=kernel_sz,\n",
    "                                padding=padding, stride=stride, bias=False))\n",
    "        nn.init.kaiming_normal_(layers[-1].weight, nonlinearity='relu', a=0)\n",
    "        layers.append(nn.ReLU())\n",
    "        return nn.Sequential(*layers)\n",
    "\n",
    "    def _get_fc_layer(self, n_in:int, n_out:int, act:bool=True) -> nn.Sequential:\n",
    "        layers = []\n",
    "        layers.append(nn.Linear(n_in, n_out))\n",
    "        nn.init.kaiming_normal_(layers[-1].weight, nonlinearity='relu', a=0)\n",
    "        nn.init.zeros_(layers[-1].bias)\n",
    "        if act: layers.append(nn.ReLU())\n",
    "        return nn.Sequential(*layers)\n",
    "\n",
    "    def _build_fc_layers(self) -> nn.Sequential:\n",
    "        layers = []\n",
    "        n_in = self.n_conv_out\n",
    "        for i in range(2):\n",
    "            n_out = np.max((1,n_in//2))\n",
    "            layers.append(self._get_fc_layer(n_in, n_out))\n",
    "            n_in = n_out\n",
    "        layers.append(self._get_fc_layer(n_in=n_in, n_out=1, act=False))  # Final layer single output, linear activation\n",
    "        return nn.Sequential(*layers)\n",
    "\n",
    "    def forward(self, x:Tensor) -> Tensor:\n",
    "        x = self.conv_layers(x)\n",
    "        x = self.flatten_x(x)\n",
    "        x = self.fc_layers(x)\n",
    "        return x"
   ]
  },
  {
   "cell_type": "code",
   "execution_count": 6,
   "id": "e6f54e9d",
   "metadata": {},
   "outputs": [],
   "source": [
    "net = cnn3d()"
   ]
  },
  {
   "cell_type": "code",
   "execution_count": 7,
   "id": "336e0a80",
   "metadata": {},
   "outputs": [
    {
     "data": {
      "text/plain": [
       "cnn3d(\n",
       "  (conv_layers): Sequential(\n",
       "    (0): Sequential(\n",
       "      (0): Conv3d(1, 8, kernel_size=(3, 3, 3), stride=(2, 2, 2), padding=(1, 1, 1), bias=False)\n",
       "      (1): ReLU()\n",
       "    )\n",
       "    (1): Sequential(\n",
       "      (0): Conv3d(8, 12, kernel_size=(3, 3, 3), stride=(2, 2, 2), padding=(1, 1, 1), bias=False)\n",
       "      (1): ReLU()\n",
       "    )\n",
       "    (2): Sequential(\n",
       "      (0): Conv3d(12, 18, kernel_size=(3, 3, 3), stride=(2, 2, 2), padding=(1, 1, 1), bias=False)\n",
       "      (1): ReLU()\n",
       "    )\n",
       "    (3): Sequential(\n",
       "      (0): Conv3d(18, 27, kernel_size=(3, 3, 3), stride=(2, 2, 2), padding=(1, 1, 1), bias=False)\n",
       "      (1): ReLU()\n",
       "    )\n",
       "  )\n",
       "  (fc_layers): Sequential(\n",
       "    (0): Sequential(\n",
       "      (0): Linear(in_features=432, out_features=216, bias=True)\n",
       "      (1): ReLU()\n",
       "    )\n",
       "    (1): Sequential(\n",
       "      (0): Linear(in_features=216, out_features=108, bias=True)\n",
       "      (1): ReLU()\n",
       "    )\n",
       "    (2): Sequential(\n",
       "      (0): Linear(in_features=108, out_features=1, bias=True)\n",
       "    )\n",
       "  )\n",
       ")"
      ]
     },
     "execution_count": 7,
     "metadata": {},
     "output_type": "execute_result"
    }
   ],
   "source": [
    "net"
   ]
  },
  {
   "cell_type": "markdown",
   "id": "85b2bcb0",
   "metadata": {},
   "source": [
    "## Training loop"
   ]
  },
  {
   "cell_type": "markdown",
   "id": "b89ed969",
   "metadata": {},
   "source": [
    "As a starting point we suggest to use MSE as loss function, however more advanced loss functions tailored to the physics problem can be tried."
   ]
  },
  {
   "cell_type": "code",
   "execution_count": 8,
   "id": "cddcebeb",
   "metadata": {},
   "outputs": [],
   "source": [
    "loss_fn = nn.MSELoss()"
   ]
  },
  {
   "cell_type": "code",
   "execution_count": 9,
   "id": "6030eccc",
   "metadata": {},
   "outputs": [],
   "source": [
    "optimizer = torch.optim.Adam(net.parameters())"
   ]
  },
  {
   "cell_type": "code",
   "execution_count": 35,
   "id": "3c5f401b",
   "metadata": {},
   "outputs": [],
   "source": [
    "training_data = MuonData(PATH/'muon_calo_train.hdf5')"
   ]
  },
  {
   "cell_type": "code",
   "execution_count": 36,
   "id": "7061973d",
   "metadata": {},
   "outputs": [],
   "source": [
    "val_data = MuonData(PATH/'muon_calo_val.hdf5')"
   ]
  },
  {
   "cell_type": "code",
   "execution_count": 37,
   "id": "0ef7ab6f",
   "metadata": {},
   "outputs": [],
   "source": [
    "train_dataloader = DataLoader(training_data, batch_size=256, shuffle=True, num_workers=4)\n",
    "val_dataloader = DataLoader(val_data, batch_size=1000, shuffle=False, num_workers=4)"
   ]
  },
  {
   "cell_type": "code",
   "execution_count": 38,
   "id": "e7fc7dc2",
   "metadata": {},
   "outputs": [],
   "source": [
    "def train_loop(dataloader, model, loss_fn, optimizer):\n",
    "    size = len(dataloader.dataset)\n",
    "    model.train()\n",
    "    for batch, (hl_feats, hits, labels) in enumerate(dataloader):\n",
    "        \n",
    "        hits, labels = hits.to(net.device), labels.to(net.device)\n",
    "        labels = labels.unsqueeze(1)\n",
    "        # Compute prediction and loss\n",
    "        pred = model(hits)\n",
    "        loss = loss_fn(pred, labels)\n",
    "\n",
    "        # Backpropagation\n",
    "        optimizer.zero_grad()\n",
    "        loss.backward()\n",
    "        optimizer.step()\n",
    "\n",
    "        if batch % 100 == 0:\n",
    "            loss, current = loss.item(), batch * len(hits)\n",
    "            print(f\"loss: {loss:>7f}  [{current:>5d}/{size:>5d}]\")"
   ]
  },
  {
   "cell_type": "code",
   "execution_count": 39,
   "id": "72a4305b",
   "metadata": {},
   "outputs": [],
   "source": [
    "def test_loop(dataloader, model, loss_fn):\n",
    "    size = len(dataloader.dataset)\n",
    "    num_batches = len(dataloader)\n",
    "    test_loss = 0\n",
    "    model.eval()\n",
    "    with torch.no_grad():\n",
    "        for hl_feats, hits, labels in dataloader:\n",
    "            hits, labels = hits.to(net.device), labels.to(net.device)\n",
    "            labels = labels.unsqueeze(1)\n",
    "            pred = model(hits)\n",
    "            test_loss += loss_fn(pred,labels).data.item()\n",
    "\n",
    "    test_loss /= num_batches\n",
    "    print(\"Test Error:\", test_loss)\n",
    "    return test_loss"
   ]
  },
  {
   "cell_type": "code",
   "execution_count": 40,
   "id": "cb6e2ad3",
   "metadata": {},
   "outputs": [],
   "source": [
    "def save_best_model(net:nn.Module, save_path:Path) -> None:\n",
    "    save_path.mkdir(parents=True, exist_ok=True)\n",
    "    torch.save({'model':net.state_dict()}, str(save_path/'best.pt'))"
   ]
  },
  {
   "cell_type": "code",
   "execution_count": 41,
   "id": "028c17e7",
   "metadata": {},
   "outputs": [],
   "source": [
    "def load_best_model(net:nn.Module, load_path:Path) -> None:\n",
    "    state = torch.load(str(load_path/'best.pt'), map_location=net.device.type)\n",
    "    net.load_state_dict(state['model'])"
   ]
  },
  {
   "cell_type": "code",
   "execution_count": 42,
   "id": "57c70333",
   "metadata": {
    "scrolled": true
   },
   "outputs": [
    {
     "name": "stdout",
     "output_type": "stream",
     "text": [
      "Epoch 1\n",
      "-------------------------------\n",
      "loss: 2643629.000000  [    0/88675]\n",
      "loss: 2348645.000000  [25600/88675]\n",
      "loss: 2258008.750000  [51200/88675]\n",
      "loss: 2495295.000000  [76800/88675]\n",
      "Test Error: 2511155.972222222\n",
      "Epoch 2\n",
      "-------------------------------\n",
      "loss: 2254742.500000  [    0/88675]\n",
      "loss: 2220845.000000  [25600/88675]\n",
      "loss: 2402079.500000  [51200/88675]\n",
      "loss: 2738446.000000  [76800/88675]\n",
      "Test Error: 2504052.5\n",
      "Epoch 3\n",
      "-------------------------------\n",
      "loss: 2327518.000000  [    0/88675]\n",
      "loss: 2251643.500000  [25600/88675]\n",
      "loss: 2574324.750000  [51200/88675]\n",
      "loss: 2479762.000000  [76800/88675]\n",
      "Test Error: 2508026.787037037\n",
      "Epoch 4\n",
      "-------------------------------\n",
      "loss: 2580889.250000  [    0/88675]\n",
      "loss: 2279075.500000  [25600/88675]\n",
      "loss: 2280188.250000  [51200/88675]\n",
      "loss: 2696149.000000  [76800/88675]\n",
      "Test Error: 2503536.6666666665\n",
      "Epoch 5\n",
      "-------------------------------\n",
      "loss: 2109549.250000  [    0/88675]\n",
      "loss: 2757685.500000  [25600/88675]\n",
      "loss: 2602102.500000  [51200/88675]\n",
      "loss: 2411993.750000  [76800/88675]\n",
      "Test Error: 2502142.361111111\n",
      "Epoch 6\n",
      "-------------------------------\n",
      "loss: 2145081.500000  [    0/88675]\n",
      "loss: 2218438.500000  [25600/88675]\n",
      "loss: 2575040.500000  [51200/88675]\n",
      "loss: 2422837.000000  [76800/88675]\n",
      "Test Error: 2505162.685185185\n",
      "Epoch 7\n",
      "-------------------------------\n",
      "loss: 2269645.500000  [    0/88675]\n",
      "loss: 2364714.500000  [25600/88675]\n",
      "loss: 2016089.875000  [51200/88675]\n",
      "loss: 1996743.625000  [76800/88675]\n",
      "Test Error: 2492593.462962963\n",
      "Epoch 8\n",
      "-------------------------------\n",
      "loss: 2107085.500000  [    0/88675]\n",
      "loss: 2454318.500000  [25600/88675]\n",
      "loss: 2348319.500000  [51200/88675]\n",
      "loss: 2477986.250000  [76800/88675]\n",
      "Test Error: 2491820.8518518517\n",
      "Epoch 9\n",
      "-------------------------------\n",
      "loss: 2348334.000000  [    0/88675]\n",
      "loss: 2284414.250000  [25600/88675]\n",
      "loss: 2628271.250000  [51200/88675]\n",
      "loss: 2300873.000000  [76800/88675]\n",
      "Test Error: 2510542.1018518517\n",
      "Epoch 10\n",
      "-------------------------------\n",
      "loss: 2347210.500000  [    0/88675]\n",
      "loss: 2202419.000000  [25600/88675]\n",
      "loss: 2739966.000000  [51200/88675]\n",
      "loss: 2439686.500000  [76800/88675]\n",
      "Test Error: 2492505.9907407407\n",
      "Epoch 11\n",
      "-------------------------------\n",
      "loss: 1966193.500000  [    0/88675]\n",
      "loss: 2341707.000000  [25600/88675]\n",
      "loss: 2223985.500000  [51200/88675]\n",
      "loss: 2486709.000000  [76800/88675]\n",
      "Test Error: 2487247.5092592593\n",
      "Epoch 12\n",
      "-------------------------------\n",
      "loss: 2010921.250000  [    0/88675]\n",
      "loss: 2266970.750000  [25600/88675]\n",
      "loss: 2456612.250000  [51200/88675]\n",
      "loss: 2503635.750000  [76800/88675]\n",
      "Test Error: 2499492.0\n",
      "Epoch 13\n",
      "-------------------------------\n",
      "loss: 2255894.750000  [    0/88675]\n",
      "loss: 2210237.000000  [25600/88675]\n",
      "loss: 2366830.250000  [51200/88675]\n",
      "loss: 2157866.750000  [76800/88675]\n",
      "Test Error: 2506113.3981481483\n",
      "Epoch 14\n",
      "-------------------------------\n",
      "loss: 2503093.000000  [    0/88675]\n",
      "loss: 2404011.500000  [25600/88675]\n",
      "loss: 2445698.000000  [51200/88675]\n",
      "loss: 2468281.500000  [76800/88675]\n",
      "Test Error: 2546093.435185185\n",
      "Epoch 15\n",
      "-------------------------------\n",
      "loss: 2090090.375000  [    0/88675]\n",
      "loss: 2168000.500000  [25600/88675]\n",
      "loss: 2067984.500000  [51200/88675]\n",
      "loss: 1986643.875000  [76800/88675]\n",
      "Test Error: 2492269.037037037\n",
      "Epoch 16\n",
      "-------------------------------\n",
      "loss: 2284861.500000  [    0/88675]\n",
      "loss: 2165878.000000  [25600/88675]\n",
      "loss: 2259037.500000  [51200/88675]\n",
      "loss: 2341712.000000  [76800/88675]\n",
      "Test Error: 2488525.8796296297\n",
      "Epoch 17\n",
      "-------------------------------\n",
      "loss: 2230312.750000  [    0/88675]\n",
      "loss: 2098524.500000  [25600/88675]\n",
      "loss: 2252710.000000  [51200/88675]\n",
      "loss: 2445501.000000  [76800/88675]\n",
      "Test Error: 2502740.611111111\n",
      "Epoch 18\n",
      "-------------------------------\n",
      "loss: 2274597.500000  [    0/88675]\n",
      "loss: 2636391.500000  [25600/88675]\n",
      "loss: 2539964.500000  [51200/88675]\n",
      "loss: 2181239.500000  [76800/88675]\n",
      "Test Error: 2511309.972222222\n",
      "Epoch 19\n",
      "-------------------------------\n",
      "loss: 2439407.500000  [    0/88675]\n",
      "loss: 2215634.000000  [25600/88675]\n",
      "loss: 2108450.000000  [51200/88675]\n",
      "loss: 2160771.000000  [76800/88675]\n",
      "Test Error: 2529189.3333333335\n",
      "Epoch 20\n",
      "-------------------------------\n",
      "loss: 2243702.000000  [    0/88675]\n",
      "loss: 2634357.250000  [25600/88675]\n",
      "loss: 2390937.000000  [51200/88675]\n",
      "loss: 2063092.750000  [76800/88675]\n",
      "Test Error: 2512069.9166666665\n",
      "Epoch 21\n",
      "-------------------------------\n",
      "loss: 2136774.750000  [    0/88675]\n",
      "loss: 2533453.250000  [25600/88675]\n",
      "loss: 2672031.000000  [51200/88675]\n",
      "loss: 2336736.250000  [76800/88675]\n",
      "Test Error: 2499312.1203703703\n",
      "Epoch 22\n",
      "-------------------------------\n",
      "loss: 2171124.500000  [    0/88675]\n",
      "loss: 2011044.500000  [25600/88675]\n",
      "loss: 2215900.000000  [51200/88675]\n",
      "loss: 2198289.250000  [76800/88675]\n",
      "Test Error: 2505781.25\n",
      "Epoch 23\n",
      "-------------------------------\n",
      "loss: 2468317.000000  [    0/88675]\n",
      "loss: 2130801.750000  [25600/88675]\n",
      "loss: 2312710.500000  [51200/88675]\n",
      "loss: 2790110.000000  [76800/88675]\n",
      "Test Error: 2494054.5833333335\n",
      "Epoch 24\n",
      "-------------------------------\n",
      "loss: 2243712.500000  [    0/88675]\n",
      "loss: 2432094.500000  [25600/88675]\n",
      "loss: 2191719.250000  [51200/88675]\n",
      "loss: 2426958.500000  [76800/88675]\n",
      "Test Error: 2502366.592592593\n",
      "Epoch 25\n",
      "-------------------------------\n",
      "loss: 2464100.250000  [    0/88675]\n",
      "loss: 2167065.250000  [25600/88675]\n",
      "loss: 2331749.000000  [51200/88675]\n",
      "loss: 2522080.500000  [76800/88675]\n",
      "Test Error: 2510091.546296296\n",
      "Epoch 26\n",
      "-------------------------------\n",
      "loss: 2345677.750000  [    0/88675]\n",
      "loss: 2180387.250000  [25600/88675]\n",
      "loss: 2157478.000000  [51200/88675]\n",
      "loss: 2111153.750000  [76800/88675]\n",
      "Test Error: 2511935.4814814813\n",
      "Epoch 27\n",
      "-------------------------------\n",
      "loss: 2415512.250000  [    0/88675]\n",
      "loss: 2656704.000000  [25600/88675]\n",
      "loss: 2320560.750000  [51200/88675]\n",
      "loss: 2275906.250000  [76800/88675]\n",
      "Test Error: 2526254.2685185187\n",
      "Epoch 28\n",
      "-------------------------------\n",
      "loss: 2383053.500000  [    0/88675]\n",
      "loss: 2418164.500000  [25600/88675]\n",
      "loss: 2123503.000000  [51200/88675]\n",
      "loss: 2260851.500000  [76800/88675]\n",
      "Test Error: 2522120.092592593\n",
      "Epoch 29\n",
      "-------------------------------\n",
      "loss: 2323190.000000  [    0/88675]\n",
      "loss: 2488692.000000  [25600/88675]\n",
      "loss: 2794166.000000  [51200/88675]\n",
      "loss: 1846230.125000  [76800/88675]\n",
      "Test Error: 2525160.527777778\n",
      "Epoch 30\n",
      "-------------------------------\n",
      "loss: 2391537.000000  [    0/88675]\n",
      "loss: 2438574.500000  [25600/88675]\n",
      "loss: 2213023.000000  [51200/88675]\n",
      "loss: 2218929.500000  [76800/88675]\n",
      "Test Error: 2532162.296296296\n",
      "Epoch 31\n",
      "-------------------------------\n",
      "loss: 1952636.500000  [    0/88675]\n",
      "loss: 2150903.500000  [25600/88675]\n",
      "loss: 2260447.250000  [51200/88675]\n",
      "loss: 2651385.500000  [76800/88675]\n",
      "Test Error: 2507528.3703703703\n",
      "Epoch 32\n",
      "-------------------------------\n",
      "loss: 2083582.250000  [    0/88675]\n",
      "loss: 2076910.000000  [25600/88675]\n",
      "loss: 1842689.250000  [51200/88675]\n",
      "loss: 2227079.000000  [76800/88675]\n",
      "Test Error: 2508871.203703704\n",
      "Epoch 33\n",
      "-------------------------------\n",
      "loss: 1973178.000000  [    0/88675]\n",
      "loss: 2031473.000000  [25600/88675]\n",
      "loss: 2305230.500000  [51200/88675]\n",
      "loss: 2322508.750000  [76800/88675]\n",
      "Test Error: 2526196.407407407\n",
      "Epoch 34\n",
      "-------------------------------\n",
      "loss: 2122841.250000  [    0/88675]\n",
      "loss: 2229250.500000  [25600/88675]\n",
      "loss: 2199525.750000  [51200/88675]\n",
      "loss: 2375315.250000  [76800/88675]\n",
      "Test Error: 2520138.8518518517\n",
      "Epoch 35\n",
      "-------------------------------\n",
      "loss: 2297240.000000  [    0/88675]\n",
      "loss: 2126120.500000  [25600/88675]\n",
      "loss: 2207006.000000  [51200/88675]\n",
      "loss: 2451323.000000  [76800/88675]\n",
      "Test Error: 2539554.1944444445\n",
      "Epoch 36\n",
      "-------------------------------\n",
      "loss: 2108888.000000  [    0/88675]\n",
      "loss: 1971305.875000  [25600/88675]\n",
      "loss: 2163459.000000  [51200/88675]\n",
      "loss: 2207601.750000  [76800/88675]\n",
      "Test Error: 2530731.5\n",
      "Epoch 37\n",
      "-------------------------------\n",
      "loss: 2395922.250000  [    0/88675]\n",
      "loss: 2412067.000000  [25600/88675]\n",
      "loss: 2350671.500000  [51200/88675]\n",
      "loss: 1973308.750000  [76800/88675]\n",
      "Test Error: 2568157.388888889\n",
      "Epoch 38\n",
      "-------------------------------\n",
      "loss: 2267083.500000  [    0/88675]\n",
      "loss: 2143943.250000  [25600/88675]\n",
      "loss: 2197952.500000  [51200/88675]\n",
      "loss: 2021262.000000  [76800/88675]\n",
      "Test Error: 2543435.1203703703\n",
      "Epoch 39\n",
      "-------------------------------\n",
      "loss: 1777083.750000  [    0/88675]\n"
     ]
    },
    {
     "name": "stdout",
     "output_type": "stream",
     "text": [
      "loss: 2027161.250000  [25600/88675]\n",
      "loss: 2481230.750000  [51200/88675]\n",
      "loss: 2068616.000000  [76800/88675]\n",
      "Test Error: 2548526.6203703703\n",
      "Epoch 40\n",
      "-------------------------------\n",
      "loss: 1998819.250000  [    0/88675]\n",
      "loss: 2125914.000000  [25600/88675]\n",
      "loss: 1887233.875000  [51200/88675]\n",
      "loss: 1929225.500000  [76800/88675]\n",
      "Test Error: 2541332.685185185\n",
      "Epoch 41\n",
      "-------------------------------\n",
      "loss: 1982701.875000  [    0/88675]\n",
      "loss: 2253084.750000  [25600/88675]\n",
      "loss: 2043299.375000  [51200/88675]\n",
      "loss: 2165380.500000  [76800/88675]\n",
      "Test Error: 2542202.6018518517\n",
      "Epoch 42\n",
      "-------------------------------\n",
      "loss: 2471426.500000  [    0/88675]\n",
      "loss: 2315150.500000  [25600/88675]\n",
      "loss: 2487611.250000  [51200/88675]\n",
      "loss: 2011468.000000  [76800/88675]\n",
      "Test Error: 2562514.0185185187\n",
      "Epoch 43\n",
      "-------------------------------\n",
      "loss: 2539618.500000  [    0/88675]\n",
      "loss: 2280769.500000  [25600/88675]\n",
      "loss: 1863723.875000  [51200/88675]\n",
      "loss: 2309737.500000  [76800/88675]\n",
      "Test Error: 2537388.777777778\n",
      "Epoch 44\n",
      "-------------------------------\n",
      "loss: 2329235.000000  [    0/88675]\n",
      "loss: 2023995.250000  [25600/88675]\n",
      "loss: 1904173.000000  [51200/88675]\n",
      "loss: 1895227.750000  [76800/88675]\n",
      "Test Error: 2543280.314814815\n",
      "Epoch 45\n",
      "-------------------------------\n",
      "loss: 2106581.500000  [    0/88675]\n",
      "loss: 2063325.500000  [25600/88675]\n",
      "loss: 2045434.000000  [51200/88675]\n",
      "loss: 2197076.500000  [76800/88675]\n",
      "Test Error: 2696527.611111111\n",
      "Epoch 46\n",
      "-------------------------------\n",
      "loss: 1995539.875000  [    0/88675]\n",
      "loss: 1814235.000000  [25600/88675]\n",
      "loss: 2396745.750000  [51200/88675]\n",
      "loss: 1740366.500000  [76800/88675]\n",
      "Test Error: 2552265.611111111\n",
      "Epoch 47\n",
      "-------------------------------\n",
      "loss: 2061657.000000  [    0/88675]\n",
      "loss: 2089127.500000  [25600/88675]\n",
      "loss: 2223180.750000  [51200/88675]\n",
      "loss: 2383340.500000  [76800/88675]\n",
      "Test Error: 2567413.435185185\n",
      "Epoch 48\n",
      "-------------------------------\n",
      "loss: 1936362.875000  [    0/88675]\n",
      "loss: 2193444.000000  [25600/88675]\n",
      "loss: 2503711.500000  [51200/88675]\n",
      "loss: 2054644.250000  [76800/88675]\n",
      "Test Error: 2559650.4444444445\n",
      "Epoch 49\n",
      "-------------------------------\n",
      "loss: 1833265.000000  [    0/88675]\n",
      "loss: 2103299.000000  [25600/88675]\n",
      "loss: 1630092.125000  [51200/88675]\n",
      "loss: 1934740.625000  [76800/88675]\n",
      "Test Error: 2598008.4907407407\n",
      "Epoch 50\n",
      "-------------------------------\n",
      "loss: 1976151.500000  [    0/88675]\n",
      "loss: 1801755.250000  [25600/88675]\n",
      "loss: 2179942.000000  [51200/88675]\n",
      "loss: 2170178.500000  [76800/88675]\n",
      "Test Error: 2573860.0092592593\n",
      "Done!\n",
      "CPU times: user 9min 33s, sys: 8min 47s, total: 18min 21s\n",
      "Wall time: 26min 55s\n"
     ]
    }
   ],
   "source": [
    "%%time\n",
    "epochs = 50\n",
    "lowest_loss = math.inf\n",
    "save_path = Path('weights')\n",
    "for t in range(epochs):\n",
    "    print(f\"Epoch {t+1}\\n-------------------------------\")\n",
    "    train_loop(train_dataloader, net, loss_fn, optimizer)\n",
    "    loss = test_loop(val_dataloader, net, loss_fn)\n",
    "    if loss < lowest_loss:\n",
    "        save_best_model(net, save_path)\n",
    "        lowest_loss = loss\n",
    "print(\"Done!\")"
   ]
  },
  {
   "cell_type": "code",
   "execution_count": 19,
   "id": "0c22cf4e",
   "metadata": {},
   "outputs": [],
   "source": [
    "load_best_model(net, save_path)"
   ]
  },
  {
   "cell_type": "markdown",
   "id": "a007582f",
   "metadata": {},
   "source": [
    "## Validation"
   ]
  },
  {
   "cell_type": "code",
   "execution_count": 20,
   "id": "39e5cc10",
   "metadata": {},
   "outputs": [],
   "source": [
    "def compute_predictions(dataloader, model):\n",
    "        \n",
    "    predictions = []\n",
    "    targets = []\n",
    "    model.eval()\n",
    "    with torch.no_grad():\n",
    "        for hl_feats, hits, labels in dataloader:\n",
    "            hits = hits.to(net.device)\n",
    "            predictions.append(model(hits).cpu().detach().numpy())\n",
    "            targets.append(labels)\n",
    "    predictions = np.concatenate(predictions, axis=0)\n",
    "    targets = np.concatenate(targets, axis=0)\n",
    "    return predictions, targets"
   ]
  },
  {
   "cell_type": "code",
   "execution_count": 21,
   "id": "379a67e6",
   "metadata": {},
   "outputs": [],
   "source": [
    "preds, targs = compute_predictions(val_dataloader, net)"
   ]
  },
  {
   "cell_type": "code",
   "execution_count": 22,
   "id": "96d4fb06",
   "metadata": {},
   "outputs": [],
   "source": [
    "df = pd.DataFrame({'pred': preds.squeeze(), 'target': targs})"
   ]
  },
  {
   "cell_type": "code",
   "execution_count": 23,
   "id": "1a106c8a",
   "metadata": {},
   "outputs": [
    {
     "data": {
      "text/html": [
       "<div>\n",
       "<style scoped>\n",
       "    .dataframe tbody tr th:only-of-type {\n",
       "        vertical-align: middle;\n",
       "    }\n",
       "\n",
       "    .dataframe tbody tr th {\n",
       "        vertical-align: top;\n",
       "    }\n",
       "\n",
       "    .dataframe thead th {\n",
       "        text-align: right;\n",
       "    }\n",
       "</style>\n",
       "<table border=\"1\" class=\"dataframe\">\n",
       "  <thead>\n",
       "    <tr style=\"text-align: right;\">\n",
       "      <th></th>\n",
       "      <th>pred</th>\n",
       "      <th>target</th>\n",
       "    </tr>\n",
       "  </thead>\n",
       "  <tbody>\n",
       "    <tr>\n",
       "      <th>0</th>\n",
       "      <td>5241.863770</td>\n",
       "      <td>5709.742676</td>\n",
       "    </tr>\n",
       "    <tr>\n",
       "      <th>1</th>\n",
       "      <td>4695.189453</td>\n",
       "      <td>5540.189453</td>\n",
       "    </tr>\n",
       "    <tr>\n",
       "      <th>2</th>\n",
       "      <td>5993.374512</td>\n",
       "      <td>2945.265869</td>\n",
       "    </tr>\n",
       "    <tr>\n",
       "      <th>3</th>\n",
       "      <td>4458.200684</td>\n",
       "      <td>5475.326660</td>\n",
       "    </tr>\n",
       "    <tr>\n",
       "      <th>4</th>\n",
       "      <td>6053.208984</td>\n",
       "      <td>7548.465332</td>\n",
       "    </tr>\n",
       "  </tbody>\n",
       "</table>\n",
       "</div>"
      ],
      "text/plain": [
       "          pred       target\n",
       "0  5241.863770  5709.742676\n",
       "1  4695.189453  5540.189453\n",
       "2  5993.374512  2945.265869\n",
       "3  4458.200684  5475.326660\n",
       "4  6053.208984  7548.465332"
      ]
     },
     "execution_count": 23,
     "metadata": {},
     "output_type": "execute_result"
    }
   ],
   "source": [
    "df.head()"
   ]
  },
  {
   "cell_type": "code",
   "execution_count": 25,
   "id": "fd05894f",
   "metadata": {},
   "outputs": [
    {
     "data": {
      "image/png": "[encoded data removed]",
      "text/plain": [
       "<Figure size 1024x576 with 1 Axes>"
      ]
     },
     "metadata": {},
     "output_type": "display_data"
    },
    {
     "data": {
      "text/plain": [
       "0.12214910524696512"
      ]
     },
     "execution_count": 25,
     "metadata": {},
     "output_type": "execute_result"
    }
   ],
   "source": [
    "compute_improvement(df)"
   ]
  },
  {
   "cell_type": "markdown",
   "id": "68b56f2b",
   "metadata": {},
   "source": [
    "## Submission"
   ]
  },
  {
   "cell_type": "code",
   "execution_count": 26,
   "id": "bfda389b",
   "metadata": {},
   "outputs": [],
   "source": [
    "del training_data, train_dataloader, val_data, val_dataloader"
   ]
  },
  {
   "cell_type": "code",
   "execution_count": 27,
   "id": "b85a993c",
   "metadata": {},
   "outputs": [],
   "source": [
    "sub_data = MuonData(PATH/'muon_calo_test.hdf5')"
   ]
  },
  {
   "cell_type": "code",
   "execution_count": 28,
   "id": "c3233b84",
   "metadata": {},
   "outputs": [],
   "source": [
    "sub_dataloader = DataLoader(sub_data, batch_size=1000, shuffle=False, num_workers=4)"
   ]
  },
  {
   "cell_type": "code",
   "execution_count": 29,
   "id": "98c0ca6c",
   "metadata": {},
   "outputs": [],
   "source": [
    "preds,_ = compute_predictions(sub_dataloader, net)"
   ]
  },
  {
   "cell_type": "code",
   "execution_count": 30,
   "id": "556a9b5f",
   "metadata": {},
   "outputs": [],
   "source": [
    "def create_submission(preds, name=\"submission\"):\n",
    "    df = pd.DataFrame(preds, columns=[\"prediction\"])\n",
    "    df.to_csv(name + \".csv\")"
   ]
  },
  {
   "cell_type": "code",
   "execution_count": 31,
   "id": "f54a15a7",
   "metadata": {},
   "outputs": [],
   "source": [
    "create_submission(preds)"
   ]
  },
  {
   "cell_type": "code",
   "execution_count": 32,
   "id": "ee9c1098",
   "metadata": {},
   "outputs": [],
   "source": [
    "del sub_data, sub_dataloader"
   ]
  },
  {
   "cell_type": "code",
   "execution_count": null,
   "id": "587db710",
   "metadata": {},
   "outputs": [],
   "source": []
  }
 ],
 "metadata": {
  "kernelspec": {
   "display_name": "Python 3",
   "language": "python",
   "name": "python3"
  },
  "language_info": {
   "codemirror_mode": {
    "name": "ipython",
    "version": 3
   },
   "file_extension": ".py",
   "mimetype": "text/x-python",
   "name": "python",
   "nbconvert_exporter": "python",
   "pygments_lexer": "ipython3",
   "version": "3.6.8"
  }
 },
 "nbformat": 4,
 "nbformat_minor": 5
}
