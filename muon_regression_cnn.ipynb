{
 "cells": [
  {
   "cell_type": "code",
   "execution_count": 1,
   "id": "1fd29c89",
   "metadata": {},
   "outputs": [],
   "source": [
    "import pandas as pd\n",
    "import numpy as np\n",
    "import xgboost as xgb\n",
    "import h5py\n",
    "import json\n",
    "import matplotlib.pyplot as plt\n",
    "import sparse\n",
    "import torch\n",
    "from torch.utils.data import Dataset\n",
    "from torch.utils.data import DataLoader\n",
    "from torch import nn, Tensor\n",
    "import numpy as np\n",
    "from typing import *\n",
    "from pathlib import Path"
   ]
  },
  {
   "cell_type": "code",
   "execution_count": 2,
   "id": "5c1567e7",
   "metadata": {},
   "outputs": [],
   "source": [
    "PATH = Path(\"/home/centos/mount_point/data/cmu_challenge/\")"
   ]
  },
  {
   "cell_type": "markdown",
   "id": "7f81d16a",
   "metadata": {},
   "source": [
    "## Neural Network with low level features"
   ]
  },
  {
   "cell_type": "code",
   "execution_count": 3,
   "id": "1b75cf84",
   "metadata": {},
   "outputs": [],
   "source": [
    "class MuonData(Dataset):\n",
    "    def __init__(self, file_name):\n",
    "        self.file_name = file_name\n",
    "        with h5py.File(self.file_name, \"r\") as file:\n",
    "            self.len = len(file['fold_0/targets'])\n",
    "        \n",
    "    def __len__(self) -> int:\n",
    "        return self.len\n",
    "    \n",
    "    def __del__(self) -> None:\n",
    "        if hasattr(self, 'file'): self.file.close()\n",
    "            \n",
    "    def open_file(self) -> None:\n",
    "        self.file = h5py.File(self.file_name, \"r\")\n",
    "        self.shape = json.loads(self.file['meta_data/matrix_feats'][()])['shape']\n",
    "        all_hits = self.file['fold_0/matrix_inputs']\n",
    "        coords = all_hits[1:].astype(int)\n",
    "        self.hits = sparse.COO(coords=coords, data=all_hits[0], shape=[coords[0][-1]+1]+self.shape)\n",
    "        self.hl_inputs = self.file['fold_0/inputs'][()]\n",
    "        self.targets = self.file['fold_0/targets'][()]\n",
    "    \n",
    "    def __getitem__(self, idx) -> Tuple[np.ndarray, np.ndarray, float]: \n",
    "        if not hasattr(self, 'file'): self.open_file()\n",
    "        #self.open_file()\n",
    "        return self.hl_inputs[idx], self.hits[idx].todense(), self.targets[idx]"
   ]
  },
  {
   "cell_type": "code",
   "execution_count": 4,
   "id": "0fded0f8",
   "metadata": {},
   "outputs": [],
   "source": [
    "training_data = MuonData(PATH/'muon_calo_train.hdf5')"
   ]
  },
  {
   "cell_type": "code",
   "execution_count": 5,
   "id": "06ef4d80",
   "metadata": {},
   "outputs": [],
   "source": [
    "val_data = MuonData(PATH/'muon_calo_val.hdf5')"
   ]
  },
  {
   "cell_type": "code",
   "execution_count": 6,
   "id": "3f69de10",
   "metadata": {},
   "outputs": [],
   "source": [
    "test_data = MuonData(PATH/'muon_calo_test_labelled.hdf5')"
   ]
  },
  {
   "cell_type": "code",
   "execution_count": 7,
   "id": "79222e92",
   "metadata": {},
   "outputs": [],
   "source": [
    "sub_data = MuonData(PATH/'muon_calo_test.hdf5')"
   ]
  },
  {
   "cell_type": "code",
   "execution_count": 8,
   "id": "b9d0b08d",
   "metadata": {},
   "outputs": [
    {
     "name": "stdout",
     "output_type": "stream",
     "text": [
      "CPU times: user 28 s, sys: 16.2 s, total: 44.2 s\n",
      "Wall time: 44.2 s\n"
     ]
    }
   ],
   "source": [
    "%%time\n",
    "_ = training_data[0]"
   ]
  },
  {
   "cell_type": "code",
   "execution_count": 27,
   "id": "9462d8d3",
   "metadata": {},
   "outputs": [
    {
     "name": "stdout",
     "output_type": "stream",
     "text": [
      "torch.Size([16, 28]) torch.Size([16, 1, 50, 32, 32]) torch.Size([16])\n",
      "torch.Size([16, 28]) torch.Size([16, 1, 50, 32, 32]) torch.Size([16])\n",
      "torch.Size([16, 28]) torch.Size([16, 1, 50, 32, 32]) torch.Size([16])\n"
     ]
    }
   ],
   "source": [
    "for i, (hits, hl_feats, labels) in enumerate(DataLoader(training_data, batch_size=16, shuffle=True)):\n",
    "    print(hits.shape, hl_feats.shape, labels.shape)\n",
    "    if i == 2: break"
   ]
  },
  {
   "cell_type": "code",
   "execution_count": 9,
   "id": "c73e1462",
   "metadata": {},
   "outputs": [],
   "source": [
    "class cnn3d(nn.Module):\n",
    "    def __init__(self, n_layers_per_res:int=1, channel_coef:float=1.5, device:Optional[torch.device]=None):\n",
    "        super().__init__()\n",
    "        if device is None: device = torch.device('cuda') if torch.cuda.is_available() else torch.device('cpu')\n",
    "        self.device = device\n",
    "        self.conv_layers = self._build_conv_layers(n_layers_per_res, channel_coef).to(self.device)\n",
    "        self.n_conv_out = self._compute_conv_out()\n",
    "        self.fc_layers = self._build_fc_layers().to(self.device)\n",
    "\n",
    "    def flatten_x(self, x:Tensor) -> Tensor:\n",
    "        return x.view(x.size(0),-1)  # flatten tensor to (N, M), could be replaced by a pooling layer\n",
    "\n",
    "    def _compute_conv_out(self) -> int:\n",
    "        with torch.no_grad():\n",
    "            self.conv_layers.eval()\n",
    "            x = torch.zeros((1,1,50,32,32), device=self.device)\n",
    "            x = self.conv_layers(x)\n",
    "            x = self.flatten_x(x)\n",
    "        self.conv_layers.train()\n",
    "        return x.shape[1]  # number of features per muon\n",
    "\n",
    "    def _build_conv_layers(self, n_layers_per_res:int, channel_coef:float) -> nn.Sequential:\n",
    "        layers = []\n",
    "        n_in = 1\n",
    "        kernel_sz = 3\n",
    "\n",
    "        for i in range(4):\n",
    "            for j in range(n_layers_per_res):\n",
    "                if j == 0:\n",
    "                    # Downsample\n",
    "                    stride = 2\n",
    "                    if i == 0:\n",
    "                        n_out = 8  #  large upscale on first downsample\n",
    "                    else:\n",
    "                        n_out = int(n_in*channel_coef)\n",
    "                else:\n",
    "                    stride = 1\n",
    "                    n_out = n_in\n",
    "                layers.append(self._get_conv_layer(n_in=n_in, n_out=n_out, kernel_sz=kernel_sz, stride=stride))\n",
    "                n_in = n_out\n",
    "        return nn.Sequential(*layers)\n",
    "    \n",
    "    def _get_conv_layer(self, n_in:int, n_out:int, kernel_sz:Union[int,Tuple[int,int,int]],\n",
    "                        stride:int=1, padding:Union[str,int,Tuple[int,int,int]]='auto') -> nn.Sequential:\n",
    "        layers = []\n",
    "        \n",
    "        if padding == 'auto': padding = kernel_sz//2 if isinstance(kernel_sz, int) else [i//2 for i in kernel_sz]\n",
    "        layers.append(nn.Conv3d(in_channels=n_in, out_channels=n_out, kernel_size=kernel_sz,\n",
    "                                padding=padding, stride=stride, bias=False))\n",
    "        nn.init.kaiming_normal_(layers[-1].weight, nonlinearity='relu', a=0)\n",
    "        layers.append(nn.ReLU())\n",
    "        return nn.Sequential(*layers)\n",
    "\n",
    "    def _get_fc_layer(self, n_in:int, n_out:int, act:bool=True) -> nn.Sequential:\n",
    "        layers = []\n",
    "        layers.append(nn.Linear(n_in, n_out))\n",
    "        nn.init.kaiming_normal_(layers[-1].weight, nonlinearity='relu', a=0)\n",
    "        nn.init.zeros_(layers[-1].bias)\n",
    "        if act: layers.append(nn.ReLU())\n",
    "        return nn.Sequential(*layers)\n",
    "\n",
    "    def _build_fc_layers(self) -> nn.Sequential:\n",
    "        layers = []\n",
    "        n_in = self.n_conv_out\n",
    "        for i in range(2):\n",
    "            n_out = np.max((1,n_in//2))\n",
    "            layers.append(self._get_fc_layer(n_in, n_out))\n",
    "            n_in = n_out\n",
    "        layers.append(self._get_fc_layer(n_in=n_in, n_out=1, act=False))  # Final layer single output, linear activation\n",
    "        return nn.Sequential(*layers)\n",
    "\n",
    "    def forward(self, x:Tensor) -> Tensor:\n",
    "        x = self.conv_layers(x)\n",
    "        x = self.flatten_x(x)\n",
    "        x = self.fc_layers(x)\n",
    "        return x"
   ]
  },
  {
   "cell_type": "code",
   "execution_count": 10,
   "id": "1c3da6b8",
   "metadata": {},
   "outputs": [],
   "source": [
    "net = cnn3d()"
   ]
  },
  {
   "cell_type": "code",
   "execution_count": 11,
   "id": "c7113715",
   "metadata": {},
   "outputs": [
    {
     "data": {
      "text/plain": [
       "cnn3d(\n",
       "  (conv_layers): Sequential(\n",
       "    (0): Sequential(\n",
       "      (0): Conv3d(1, 8, kernel_size=(3, 3, 3), stride=(2, 2, 2), padding=(1, 1, 1), bias=False)\n",
       "      (1): ReLU()\n",
       "    )\n",
       "    (1): Sequential(\n",
       "      (0): Conv3d(8, 12, kernel_size=(3, 3, 3), stride=(2, 2, 2), padding=(1, 1, 1), bias=False)\n",
       "      (1): ReLU()\n",
       "    )\n",
       "    (2): Sequential(\n",
       "      (0): Conv3d(12, 18, kernel_size=(3, 3, 3), stride=(2, 2, 2), padding=(1, 1, 1), bias=False)\n",
       "      (1): ReLU()\n",
       "    )\n",
       "    (3): Sequential(\n",
       "      (0): Conv3d(18, 27, kernel_size=(3, 3, 3), stride=(2, 2, 2), padding=(1, 1, 1), bias=False)\n",
       "      (1): ReLU()\n",
       "    )\n",
       "  )\n",
       "  (fc_layers): Sequential(\n",
       "    (0): Sequential(\n",
       "      (0): Linear(in_features=432, out_features=216, bias=True)\n",
       "      (1): ReLU()\n",
       "    )\n",
       "    (1): Sequential(\n",
       "      (0): Linear(in_features=216, out_features=108, bias=True)\n",
       "      (1): ReLU()\n",
       "    )\n",
       "    (2): Sequential(\n",
       "      (0): Linear(in_features=108, out_features=1, bias=True)\n",
       "    )\n",
       "  )\n",
       ")"
      ]
     },
     "execution_count": 11,
     "metadata": {},
     "output_type": "execute_result"
    }
   ],
   "source": [
    "net"
   ]
  },
  {
   "cell_type": "code",
   "execution_count": 18,
   "id": "0450eb46",
   "metadata": {},
   "outputs": [
    {
     "name": "stdout",
     "output_type": "stream",
     "text": [
      "CPU times: user 1min 6s, sys: 2.29 s, total: 1min 9s\n",
      "Wall time: 1.95 s\n"
     ]
    }
   ],
   "source": [
    "%%time\n",
    "train_dataloader = DataLoader(training_data, batch_size=256, shuffle=True)\n",
    "for i, b in enumerate(train_dataloader):\n",
    "    net(b[1].to(net.device))\n",
    "    if i == 10: break"
   ]
  },
  {
   "cell_type": "code",
   "execution_count": 12,
   "id": "6bc01650",
   "metadata": {},
   "outputs": [
    {
     "name": "stdout",
     "output_type": "stream",
     "text": [
      "CPU times: user 6.55 s, sys: 557 ms, total: 7.11 s\n",
      "Wall time: 1.4 s\n"
     ]
    }
   ],
   "source": [
    "%%time\n",
    "train_dataloader = DataLoader(training_data, batch_size=256, shuffle=True, num_workers=2)\n",
    "for i, b in enumerate(train_dataloader):\n",
    "    net(b[1].to(net.device))\n",
    "    if i == 10: break"
   ]
  },
  {
   "cell_type": "code",
   "execution_count": 13,
   "id": "ccf003c3",
   "metadata": {},
   "outputs": [
    {
     "name": "stdout",
     "output_type": "stream",
     "text": [
      "CPU times: user 6.43 s, sys: 637 ms, total: 7.07 s\n",
      "Wall time: 1.06 s\n"
     ]
    }
   ],
   "source": [
    "%%time\n",
    "train_dataloader = DataLoader(training_data, batch_size=256, shuffle=True, num_workers=4)\n",
    "for i, b in enumerate(train_dataloader):\n",
    "    net(b[1].to(net.device))\n",
    "    if i == 10: break"
   ]
  },
  {
   "cell_type": "markdown",
   "id": "0ff63df0",
   "metadata": {},
   "source": [
    "## Training loop"
   ]
  },
  {
   "cell_type": "code",
   "execution_count": 12,
   "id": "48af8299",
   "metadata": {},
   "outputs": [],
   "source": [
    "loss_fn = nn.MSELoss()"
   ]
  },
  {
   "cell_type": "code",
   "execution_count": 13,
   "id": "f0698087",
   "metadata": {},
   "outputs": [],
   "source": [
    "optimizer = torch.optim.Adam(net.parameters())"
   ]
  },
  {
   "cell_type": "code",
   "execution_count": 14,
   "id": "3d08fcee",
   "metadata": {},
   "outputs": [],
   "source": [
    "train_dataloader = DataLoader(training_data, batch_size=256, shuffle=True, num_workers=4)\n",
    "val_dataloader = DataLoader(val_data, batch_size=1000, shuffle=False, num_workers=4)"
   ]
  },
  {
   "cell_type": "code",
   "execution_count": 15,
   "id": "62500cdb",
   "metadata": {},
   "outputs": [],
   "source": [
    "def train_loop(dataloader, model, loss_fn, optimizer):\n",
    "    size = len(dataloader.dataset)\n",
    "    for batch, (hl_feats, hits, labels) in enumerate(dataloader):\n",
    "        \n",
    "        hits, labels = hits.to(net.device), labels.to(net.device)\n",
    "        labels = labels.unsqueeze(1)\n",
    "        # Compute prediction and loss\n",
    "        pred = model(hits)\n",
    "        loss = loss_fn(pred, labels)\n",
    "\n",
    "        # Backpropagation\n",
    "        optimizer.zero_grad()\n",
    "        loss.backward()\n",
    "        optimizer.step()\n",
    "\n",
    "        if batch % 100 == 0:\n",
    "            loss, current = loss.item(), batch * len(hits)\n",
    "            print(f\"loss: {loss:>7f}  [{current:>5d}/{size:>5d}]\")"
   ]
  },
  {
   "cell_type": "code",
   "execution_count": 16,
   "id": "fa926de0",
   "metadata": {},
   "outputs": [],
   "source": [
    "def test_loop(dataloader, model, loss_fn):\n",
    "    size = len(dataloader.dataset)\n",
    "    num_batches = len(dataloader)\n",
    "    test_loss = 0\n",
    "\n",
    "    with torch.no_grad():\n",
    "        for hl_feats, hits, labels in dataloader:\n",
    "            hits, labels = hits.to(net.device), labels.to(net.device)\n",
    "            labels = labels.unsqueeze(1)\n",
    "            pred = model(hits)\n",
    "            test_loss += loss_fn(pred,labels).item()\n",
    "\n",
    "    test_loss /= num_batches\n",
    "    print(\"Test Error:\", test_loss)"
   ]
  },
  {
   "cell_type": "code",
   "execution_count": 18,
   "id": "cac9cc6a",
   "metadata": {},
   "outputs": [
    {
     "name": "stdout",
     "output_type": "stream",
     "text": [
      "Epoch 1\n",
      "-------------------------------\n",
      "loss: 2758862.000000  [    0/88675]\n",
      "loss: 2702918.000000  [25600/88675]\n",
      "loss: 3205928.500000  [51200/88675]\n",
      "loss: 3143355.000000  [76800/88675]\n",
      "Test Error: 2961907.537037037\n",
      "Epoch 2\n",
      "-------------------------------\n",
      "loss: 2872714.000000  [    0/88675]\n",
      "loss: 2869090.500000  [25600/88675]\n",
      "loss: 2751615.000000  [51200/88675]\n",
      "loss: 2921564.500000  [76800/88675]\n",
      "Test Error: 2959406.6203703703\n",
      "Epoch 3\n",
      "-------------------------------\n",
      "loss: 3033446.500000  [    0/88675]\n",
      "loss: 2912961.000000  [25600/88675]\n",
      "loss: 2894979.500000  [51200/88675]\n",
      "loss: 2556541.750000  [76800/88675]\n",
      "Test Error: 2887012.185185185\n",
      "Epoch 4\n",
      "-------------------------------\n",
      "loss: 2655431.500000  [    0/88675]\n",
      "loss: 3001400.000000  [25600/88675]\n",
      "loss: 2556996.000000  [51200/88675]\n",
      "loss: 2861999.500000  [76800/88675]\n",
      "Test Error: 2818505.703703704\n",
      "Epoch 5\n",
      "-------------------------------\n",
      "loss: 3157067.750000  [    0/88675]\n",
      "loss: 2962716.000000  [25600/88675]\n",
      "loss: 2992715.500000  [51200/88675]\n",
      "loss: 2808277.500000  [76800/88675]\n",
      "Test Error: 2839538.2407407407\n",
      "Epoch 6\n",
      "-------------------------------\n",
      "loss: 2435495.500000  [    0/88675]\n",
      "loss: 2328152.000000  [25600/88675]\n",
      "loss: 2666579.000000  [51200/88675]\n",
      "loss: 2520680.000000  [76800/88675]\n",
      "Test Error: 2739070.8333333335\n",
      "Epoch 7\n",
      "-------------------------------\n",
      "loss: 2856317.000000  [    0/88675]\n",
      "loss: 3102757.500000  [25600/88675]\n",
      "loss: 2765224.500000  [51200/88675]\n",
      "loss: 2574163.500000  [76800/88675]\n",
      "Test Error: 2720008.212962963\n",
      "Epoch 8\n",
      "-------------------------------\n",
      "loss: 2502888.750000  [    0/88675]\n",
      "loss: 2838426.750000  [25600/88675]\n",
      "loss: 2596322.500000  [51200/88675]\n",
      "loss: 2530514.500000  [76800/88675]\n",
      "Test Error: 2676080.4166666665\n",
      "Epoch 9\n",
      "-------------------------------\n",
      "loss: 2950230.500000  [    0/88675]\n",
      "loss: 2910620.250000  [25600/88675]\n",
      "loss: 2699141.500000  [51200/88675]\n",
      "loss: 2949888.250000  [76800/88675]\n",
      "Test Error: 2684460.064814815\n",
      "Epoch 10\n",
      "-------------------------------\n",
      "loss: 2967922.500000  [    0/88675]\n",
      "loss: 2262901.750000  [25600/88675]\n",
      "loss: 2397449.000000  [51200/88675]\n",
      "loss: 2746753.000000  [76800/88675]\n",
      "Test Error: 2644770.9814814813\n",
      "Done!\n"
     ]
    }
   ],
   "source": [
    "epochs = 10\n",
    "for t in range(epochs):\n",
    "    print(f\"Epoch {t+1}\\n-------------------------------\")\n",
    "    train_loop(train_dataloader, net, loss_fn, optimizer)\n",
    "    test_loop(val_dataloader, net, loss_fn)\n",
    "print(\"Done!\")"
   ]
  },
  {
   "cell_type": "markdown",
   "id": "96eb3052",
   "metadata": {},
   "source": [
    "## Test"
   ]
  },
  {
   "cell_type": "code",
   "execution_count": 19,
   "id": "4324cab5",
   "metadata": {},
   "outputs": [],
   "source": [
    "test_dataloader = DataLoader(test_data, batch_size=1000, shuffle=False)"
   ]
  },
  {
   "cell_type": "code",
   "execution_count": 20,
   "id": "f4fbd231",
   "metadata": {},
   "outputs": [
    {
     "name": "stdout",
     "output_type": "stream",
     "text": [
      "Test Error: 2606716.6203703703\n"
     ]
    }
   ],
   "source": [
    "test_loop(test_dataloader, net, loss_fn)"
   ]
  },
  {
   "cell_type": "markdown",
   "id": "1658bc0f",
   "metadata": {},
   "source": [
    "## Submission"
   ]
  },
  {
   "cell_type": "code",
   "execution_count": 21,
   "id": "a9c12815",
   "metadata": {},
   "outputs": [],
   "source": [
    "sub_dataloader = DataLoader(sub_data, batch_size=1000, shuffle=False)"
   ]
  },
  {
   "cell_type": "code",
   "execution_count": 23,
   "id": "c5f86d98",
   "metadata": {},
   "outputs": [],
   "source": [
    "def create_submission(dataloader, model):\n",
    "        \n",
    "    predictions = []\n",
    "\n",
    "    with torch.no_grad():\n",
    "        for hl_feats, hits, labels in dataloader:\n",
    "            hits = hits.to(net.device)\n",
    "            predictions.append( model(hits).cpu().detach().numpy() )\n",
    "    predictions = np.concatenate( predictions, axis=0 )\n",
    "    return predictions"
   ]
  },
  {
   "cell_type": "code",
   "execution_count": 24,
   "id": "91e2d5cf",
   "metadata": {},
   "outputs": [],
   "source": [
    "preds = create_submission(sub_dataloader, net)"
   ]
  },
  {
   "cell_type": "code",
   "execution_count": 25,
   "id": "3fd9c5af",
   "metadata": {},
   "outputs": [],
   "source": [
    "df = pd.DataFrame(preds, columns=[\"prediction\"])"
   ]
  },
  {
   "cell_type": "code",
   "execution_count": 26,
   "id": "4264a5b4",
   "metadata": {},
   "outputs": [],
   "source": [
    "df.to_csv(\"test.csv\")"
   ]
  },
  {
   "cell_type": "code",
   "execution_count": null,
   "id": "3b501d60",
   "metadata": {},
   "outputs": [],
   "source": []
  }
 ],
 "metadata": {
  "kernelspec": {
   "display_name": "Python 3",
   "language": "python",
   "name": "python3"
  },
  "language_info": {
   "codemirror_mode": {
    "name": "ipython",
    "version": 3
   },
   "file_extension": ".py",
   "mimetype": "text/x-python",
   "name": "python",
   "nbconvert_exporter": "python",
   "pygments_lexer": "ipython3",
   "version": "3.6.8"
  }
 },
 "nbformat": 4,
 "nbformat_minor": 5
}
