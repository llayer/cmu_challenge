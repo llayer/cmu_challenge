{
 "cells": [
  {
   "cell_type": "markdown",
   "id": "06fe7716",
   "metadata": {},
   "source": [
    "# Deep learning for muon energy reconstruction in a high-granularity calorimeter"
   ]
  },
  {
   "cell_type": "markdown",
   "id": "69554643",
   "metadata": {},
   "source": [
    "Given the regularity of the detector configuration, processing of the raw data is also possible using 3D convolutional neural networks. This allows to exploit the granular information of the deposited energy pattern to learn high-level representations of the detector readout, which we could also combine with high-level information produced by physics-inspired statistical summaries."
   ]
  },
  {
   "cell_type": "code",
   "execution_count": 2,
   "id": "55da04ff",
   "metadata": {},
   "outputs": [],
   "source": [
    "import pandas as pd\n",
    "import numpy as np\n",
    "import xgboost as xgb\n",
    "import h5py\n",
    "import json\n",
    "import matplotlib.pyplot as plt\n",
    "import sparse\n",
    "import torch\n",
    "from torch.utils.data import Dataset\n",
    "from torch.utils.data import DataLoader\n",
    "from torch import nn, Tensor\n",
    "import numpy as np\n",
    "from typing import *\n",
    "from pathlib import Path\n",
    "import math"
   ]
  },
  {
   "cell_type": "code",
   "execution_count": 3,
   "id": "704b3f37",
   "metadata": {},
   "outputs": [],
   "source": [
    "from metric import compute_improvement"
   ]
  },
  {
   "cell_type": "code",
   "execution_count": 4,
   "id": "64061780",
   "metadata": {},
   "outputs": [],
   "source": [
    "PATH = Path(\"/home/centos/mount_point/data/cmu_challenge/\")"
   ]
  },
  {
   "cell_type": "markdown",
   "id": "0bb6f963",
   "metadata": {},
   "source": [
    "## Neural Network with low level features"
   ]
  },
  {
   "cell_type": "markdown",
   "id": "dff77c39",
   "metadata": {},
   "source": [
    "Define a dataloader"
   ]
  },
  {
   "cell_type": "code",
   "execution_count": 5,
   "id": "d617a351",
   "metadata": {},
   "outputs": [],
   "source": [
    "class MuonData(Dataset):\n",
    "    def __init__(self, file_name):\n",
    "        self.file_name = file_name\n",
    "        self.open_file()\n",
    "        \n",
    "    def __len__(self) -> int:\n",
    "        return self.len\n",
    "    \n",
    "    def __del__(self) -> None:\n",
    "        if hasattr(self, 'hits'): del self.hits\n",
    "        if hasattr(self, 'file'): self.file.close()\n",
    "            \n",
    "    def open_file(self) -> None:\n",
    "        self.file = h5py.File(self.file_name, \"r\")\n",
    "        self.shape = json.loads(self.file['meta_data/matrix_feats'][()])['shape']\n",
    "        all_hits = self.file['fold_0/matrix_inputs']\n",
    "        coords = all_hits[1:].astype(int)\n",
    "        self.hits = sparse.COO(coords=coords, data=all_hits[0], shape=[coords[0][-1]+1]+self.shape)\n",
    "        self.hl_inputs = self.file['fold_0/inputs'][()]\n",
    "        self.targets = self.file['fold_0/targets'][()]\n",
    "        self.len = len(self.file['fold_0/targets'])\n",
    "    \n",
    "    def __getitem__(self, idx) -> Tuple[np.ndarray, np.ndarray, float]: \n",
    "        if not hasattr(self, 'file'): self.open_file()\n",
    "        return self.hl_inputs[idx], self.hits[idx].todense(), self.targets[idx]"
   ]
  },
  {
   "cell_type": "markdown",
   "id": "4a7256df",
   "metadata": {},
   "source": [
    "%%time\n",
    "_ = training_data[0]"
   ]
  },
  {
   "cell_type": "code",
   "execution_count": 6,
   "id": "7cbd22e1",
   "metadata": {},
   "outputs": [],
   "source": [
    "class cnn3d(nn.Module):\n",
    "    def __init__(self, n_layers_per_res:int=1, channel_coef:float=1.5, device:Optional[torch.device]=None):\n",
    "        super().__init__()\n",
    "        if device is None: device = torch.device('cuda') if torch.cuda.is_available() else torch.device('cpu')\n",
    "        self.device = device\n",
    "        self.conv_layers = self._build_conv_layers(n_layers_per_res, channel_coef).to(self.device)\n",
    "        self.n_conv_out = self._compute_conv_out()\n",
    "        self.fc_layers = self._build_fc_layers().to(self.device)\n",
    "\n",
    "    def flatten_x(self, x:Tensor) -> Tensor:\n",
    "        return x.view(x.size(0),-1)  # flatten tensor to (N, M), could be replaced by a pooling layer\n",
    "\n",
    "    def _compute_conv_out(self) -> int:\n",
    "        with torch.no_grad():\n",
    "            self.conv_layers.eval()\n",
    "            x = torch.zeros((1,1,50,32,32), device=self.device)\n",
    "            x = self.conv_layers(x)\n",
    "            x = self.flatten_x(x)\n",
    "        self.conv_layers.train()\n",
    "        return x.shape[1]  # number of features per muon\n",
    "\n",
    "    def _build_conv_layers(self, n_layers_per_res:int, channel_coef:float) -> nn.Sequential:\n",
    "        layers = []\n",
    "        n_in = 1\n",
    "        kernel_sz = 3\n",
    "\n",
    "        for i in range(4):\n",
    "            for j in range(n_layers_per_res):\n",
    "                if j == 0:\n",
    "                    # Downsample\n",
    "                    stride = 2\n",
    "                    if i == 0:\n",
    "                        n_out = 8  #  large upscale on first downsample\n",
    "                    else:\n",
    "                        n_out = int(n_in*channel_coef)\n",
    "                else:\n",
    "                    stride = 1\n",
    "                    n_out = n_in\n",
    "                layers.append(self._get_conv_layer(n_in=n_in, n_out=n_out, kernel_sz=kernel_sz, stride=stride))\n",
    "                n_in = n_out\n",
    "        return nn.Sequential(*layers)\n",
    "    \n",
    "    def _get_conv_layer(self, n_in:int, n_out:int, kernel_sz:Union[int,Tuple[int,int,int]],\n",
    "                        stride:int=1, padding:Union[str,int,Tuple[int,int,int]]='auto') -> nn.Sequential:\n",
    "        layers = []\n",
    "        \n",
    "        if padding == 'auto': padding = kernel_sz//2 if isinstance(kernel_sz, int) else [i//2 for i in kernel_sz]\n",
    "        layers.append(nn.Conv3d(in_channels=n_in, out_channels=n_out, kernel_size=kernel_sz,\n",
    "                                padding=padding, stride=stride, bias=False))\n",
    "        nn.init.kaiming_normal_(layers[-1].weight, nonlinearity='relu', a=0)\n",
    "        layers.append(nn.ReLU())\n",
    "        return nn.Sequential(*layers)\n",
    "\n",
    "    def _get_fc_layer(self, n_in:int, n_out:int, act:bool=True) -> nn.Sequential:\n",
    "        layers = []\n",
    "        layers.append(nn.Linear(n_in, n_out))\n",
    "        nn.init.kaiming_normal_(layers[-1].weight, nonlinearity='relu', a=0)\n",
    "        nn.init.zeros_(layers[-1].bias)\n",
    "        if act: layers.append(nn.ReLU())\n",
    "        return nn.Sequential(*layers)\n",
    "\n",
    "    def _build_fc_layers(self) -> nn.Sequential:\n",
    "        layers = []\n",
    "        n_in = self.n_conv_out\n",
    "        for i in range(2):\n",
    "            n_out = np.max((1,n_in//2))\n",
    "            layers.append(self._get_fc_layer(n_in, n_out))\n",
    "            n_in = n_out\n",
    "        layers.append(self._get_fc_layer(n_in=n_in, n_out=1, act=False))  # Final layer single output, linear activation\n",
    "        return nn.Sequential(*layers)\n",
    "\n",
    "    def forward(self, x:Tensor) -> Tensor:\n",
    "        x = self.conv_layers(x)\n",
    "        x = self.flatten_x(x)\n",
    "        x = self.fc_layers(x)\n",
    "        return x"
   ]
  },
  {
   "cell_type": "code",
   "execution_count": 7,
   "id": "e6f54e9d",
   "metadata": {},
   "outputs": [],
   "source": [
    "net = cnn3d()"
   ]
  },
  {
   "cell_type": "code",
   "execution_count": 8,
   "id": "336e0a80",
   "metadata": {},
   "outputs": [
    {
     "data": {
      "text/plain": [
       "cnn3d(\n",
       "  (conv_layers): Sequential(\n",
       "    (0): Sequential(\n",
       "      (0): Conv3d(1, 8, kernel_size=(3, 3, 3), stride=(2, 2, 2), padding=(1, 1, 1), bias=False)\n",
       "      (1): ReLU()\n",
       "    )\n",
       "    (1): Sequential(\n",
       "      (0): Conv3d(8, 12, kernel_size=(3, 3, 3), stride=(2, 2, 2), padding=(1, 1, 1), bias=False)\n",
       "      (1): ReLU()\n",
       "    )\n",
       "    (2): Sequential(\n",
       "      (0): Conv3d(12, 18, kernel_size=(3, 3, 3), stride=(2, 2, 2), padding=(1, 1, 1), bias=False)\n",
       "      (1): ReLU()\n",
       "    )\n",
       "    (3): Sequential(\n",
       "      (0): Conv3d(18, 27, kernel_size=(3, 3, 3), stride=(2, 2, 2), padding=(1, 1, 1), bias=False)\n",
       "      (1): ReLU()\n",
       "    )\n",
       "  )\n",
       "  (fc_layers): Sequential(\n",
       "    (0): Sequential(\n",
       "      (0): Linear(in_features=432, out_features=216, bias=True)\n",
       "      (1): ReLU()\n",
       "    )\n",
       "    (1): Sequential(\n",
       "      (0): Linear(in_features=216, out_features=108, bias=True)\n",
       "      (1): ReLU()\n",
       "    )\n",
       "    (2): Sequential(\n",
       "      (0): Linear(in_features=108, out_features=1, bias=True)\n",
       "    )\n",
       "  )\n",
       ")"
      ]
     },
     "execution_count": 8,
     "metadata": {},
     "output_type": "execute_result"
    }
   ],
   "source": [
    "net"
   ]
  },
  {
   "cell_type": "markdown",
   "id": "117598ab",
   "metadata": {},
   "source": [
    "%%time\n",
    "train_dataloader = DataLoader(training_data, batch_size=256, shuffle=True)\n",
    "for i, b in enumerate(train_dataloader):\n",
    "    net(b[1].to(net.device))\n",
    "    if i == 10: break"
   ]
  },
  {
   "cell_type": "markdown",
   "id": "0b148110",
   "metadata": {},
   "source": [
    "%%time\n",
    "train_dataloader = DataLoader(training_data, batch_size=256, shuffle=True, num_workers=2)\n",
    "for i, b in enumerate(train_dataloader):\n",
    "    net(b[1].to(net.device))\n",
    "    if i == 10: break"
   ]
  },
  {
   "cell_type": "markdown",
   "id": "1d870b1d",
   "metadata": {},
   "source": [
    "%%time\n",
    "train_dataloader = DataLoader(training_data, batch_size=256, shuffle=True, num_workers=4)\n",
    "for i, b in enumerate(train_dataloader):\n",
    "    net(b[1].to(net.device))\n",
    "    if i == 10: break"
   ]
  },
  {
   "cell_type": "markdown",
   "id": "85b2bcb0",
   "metadata": {},
   "source": [
    "## Training loop"
   ]
  },
  {
   "cell_type": "code",
   "execution_count": 9,
   "id": "cddcebeb",
   "metadata": {},
   "outputs": [],
   "source": [
    "loss_fn = nn.MSELoss()"
   ]
  },
  {
   "cell_type": "code",
   "execution_count": 10,
   "id": "6030eccc",
   "metadata": {},
   "outputs": [],
   "source": [
    "optimizer = torch.optim.Adam(net.parameters())"
   ]
  },
  {
   "cell_type": "code",
   "execution_count": 11,
   "id": "3c5f401b",
   "metadata": {},
   "outputs": [],
   "source": [
    "training_data = MuonData(PATH/'muon_calo_train.hdf5')"
   ]
  },
  {
   "cell_type": "code",
   "execution_count": 12,
   "id": "7061973d",
   "metadata": {},
   "outputs": [],
   "source": [
    "val_data = MuonData(PATH/'muon_calo_val.hdf5')"
   ]
  },
  {
   "cell_type": "code",
   "execution_count": 13,
   "id": "0ef7ab6f",
   "metadata": {},
   "outputs": [],
   "source": [
    "train_dataloader = DataLoader(training_data, batch_size=256, shuffle=True, num_workers=4)\n",
    "val_dataloader = DataLoader(val_data, batch_size=1000, shuffle=False, num_workers=4)"
   ]
  },
  {
   "cell_type": "code",
   "execution_count": 14,
   "id": "e7fc7dc2",
   "metadata": {},
   "outputs": [],
   "source": [
    "def train_loop(dataloader, model, loss_fn, optimizer):\n",
    "    size = len(dataloader.dataset)\n",
    "    model.train()\n",
    "    for batch, (hl_feats, hits, labels) in enumerate(dataloader):\n",
    "        \n",
    "        hits, labels = hits.to(net.device), labels.to(net.device)\n",
    "        labels = labels.unsqueeze(1)\n",
    "        # Compute prediction and loss\n",
    "        pred = model(hits)\n",
    "        loss = loss_fn(pred, labels)\n",
    "\n",
    "        # Backpropagation\n",
    "        optimizer.zero_grad()\n",
    "        loss.backward()\n",
    "        optimizer.step()\n",
    "\n",
    "        if batch % 100 == 0:\n",
    "            loss, current = loss.item(), batch * len(hits)\n",
    "            print(f\"loss: {loss:>7f}  [{current:>5d}/{size:>5d}]\")"
   ]
  },
  {
   "cell_type": "code",
   "execution_count": 15,
   "id": "72a4305b",
   "metadata": {},
   "outputs": [],
   "source": [
    "def test_loop(dataloader, model, loss_fn):\n",
    "    size = len(dataloader.dataset)\n",
    "    num_batches = len(dataloader)\n",
    "    test_loss = 0\n",
    "    model.eval()\n",
    "    with torch.no_grad():\n",
    "        for hl_feats, hits, labels in dataloader:\n",
    "            hits, labels = hits.to(net.device), labels.to(net.device)\n",
    "            labels = labels.unsqueeze(1)\n",
    "            pred = model(hits)\n",
    "            test_loss += loss_fn(pred,labels).data.item()\n",
    "\n",
    "    test_loss /= num_batches\n",
    "    print(\"Test Error:\", test_loss)\n",
    "    return test_loss"
   ]
  },
  {
   "cell_type": "code",
   "execution_count": 16,
   "id": "cb6e2ad3",
   "metadata": {},
   "outputs": [],
   "source": [
    "def save_best_model(net:nn.Module, save_path:Path) -> None:\n",
    "    save_path.mkdir(parents=True, exist_ok=True)\n",
    "    torch.save({'model':net.state_dict()}, str(save_path/'best.pt'))"
   ]
  },
  {
   "cell_type": "code",
   "execution_count": 17,
   "id": "028c17e7",
   "metadata": {},
   "outputs": [],
   "source": [
    "def load_best_model(net:nn.Module, load_path:Path) -> None:\n",
    "    state = torch.load(str(load_path/'best.pt'), map_location=net.device.type)\n",
    "    net.load_state_dict(state['model'])"
   ]
  },
  {
   "cell_type": "code",
   "execution_count": 18,
   "id": "57c70333",
   "metadata": {
    "scrolled": true
   },
   "outputs": [
    {
     "name": "stdout",
     "output_type": "stream",
     "text": [
      "Epoch 1\n",
      "-------------------------------\n",
      "loss: 21093020.000000  [    0/88675]\n",
      "loss: 16877088.000000  [25600/88675]\n",
      "loss: 18051124.000000  [51200/88675]\n",
      "loss: 16957182.000000  [76800/88675]\n",
      "Test Error: 16250939.592592593\n",
      "Epoch 2\n",
      "-------------------------------\n",
      "loss: 17124984.000000  [    0/88675]\n",
      "loss: 8058385.500000  [25600/88675]\n",
      "loss: 3246467.500000  [51200/88675]\n",
      "loss: 2948539.500000  [76800/88675]\n",
      "Test Error: 3476440.7314814813\n",
      "Epoch 3\n",
      "-------------------------------\n",
      "loss: 5772399.000000  [    0/88675]\n",
      "loss: 3109628.000000  [25600/88675]\n",
      "loss: 3103041.000000  [51200/88675]\n",
      "loss: 2928515.000000  [76800/88675]\n",
      "Test Error: 3308734.8055555555\n",
      "Epoch 4\n",
      "-------------------------------\n",
      "loss: 2972277.500000  [    0/88675]\n",
      "loss: 3357490.750000  [25600/88675]\n",
      "loss: 3542075.000000  [51200/88675]\n",
      "loss: 3027680.000000  [76800/88675]\n",
      "Test Error: 3232338.8796296297\n",
      "Epoch 5\n",
      "-------------------------------\n",
      "loss: 2880006.000000  [    0/88675]\n",
      "loss: 3076178.750000  [25600/88675]\n",
      "loss: 3124471.250000  [51200/88675]\n",
      "loss: 3309301.500000  [76800/88675]\n",
      "Test Error: 3191803.6944444445\n",
      "Epoch 6\n",
      "-------------------------------\n",
      "loss: 2808557.000000  [    0/88675]\n",
      "loss: 3057015.500000  [25600/88675]\n",
      "loss: 2817954.750000  [51200/88675]\n",
      "loss: 2711360.000000  [76800/88675]\n",
      "Test Error: 3139541.8796296297\n",
      "Epoch 7\n",
      "-------------------------------\n",
      "loss: 3027071.000000  [    0/88675]\n",
      "loss: 5033623.500000  [25600/88675]\n",
      "loss: 2662114.500000  [51200/88675]\n",
      "loss: 2701823.500000  [76800/88675]\n",
      "Test Error: 3132239.8796296297\n",
      "Epoch 8\n",
      "-------------------------------\n",
      "loss: 3135213.000000  [    0/88675]\n",
      "loss: 3286490.000000  [25600/88675]\n",
      "loss: 3178755.500000  [51200/88675]\n",
      "loss: 2849914.000000  [76800/88675]\n",
      "Test Error: 3062046.3518518517\n",
      "Epoch 9\n",
      "-------------------------------\n",
      "loss: 3264358.000000  [    0/88675]\n",
      "loss: 3249841.000000  [25600/88675]\n",
      "loss: 3439366.750000  [51200/88675]\n",
      "loss: 3031656.750000  [76800/88675]\n",
      "Test Error: 3033951.5185185187\n",
      "Epoch 10\n",
      "-------------------------------\n",
      "loss: 2585841.750000  [    0/88675]\n",
      "loss: 2780102.250000  [25600/88675]\n",
      "loss: 3082383.750000  [51200/88675]\n",
      "loss: 2811708.500000  [76800/88675]\n",
      "Test Error: 3019935.574074074\n",
      "Epoch 11\n",
      "-------------------------------\n",
      "loss: 2545413.500000  [    0/88675]\n",
      "loss: 2912317.250000  [25600/88675]\n",
      "loss: 3058153.250000  [51200/88675]\n",
      "loss: 3272177.250000  [76800/88675]\n",
      "Test Error: 3034647.546296296\n",
      "Epoch 12\n",
      "-------------------------------\n",
      "loss: 2622599.000000  [    0/88675]\n",
      "loss: 3035502.500000  [25600/88675]\n",
      "loss: 3475489.750000  [51200/88675]\n",
      "loss: 3675176.500000  [76800/88675]\n",
      "Test Error: 2960335.3333333335\n",
      "Epoch 13\n",
      "-------------------------------\n",
      "loss: 2569298.000000  [    0/88675]\n",
      "loss: 2610893.000000  [25600/88675]\n",
      "loss: 2808086.500000  [51200/88675]\n",
      "loss: 2503131.750000  [76800/88675]\n",
      "Test Error: 2935646.6018518517\n",
      "Epoch 14\n",
      "-------------------------------\n",
      "loss: 2781953.000000  [    0/88675]\n",
      "loss: 2864413.000000  [25600/88675]\n",
      "loss: 3013495.000000  [51200/88675]\n",
      "loss: 3377897.500000  [76800/88675]\n",
      "Test Error: 2931999.0092592593\n",
      "Epoch 15\n",
      "-------------------------------\n",
      "loss: 2920082.500000  [    0/88675]\n",
      "loss: 2950832.250000  [25600/88675]\n",
      "loss: 2801882.500000  [51200/88675]\n",
      "loss: 2332865.500000  [76800/88675]\n",
      "Test Error: 2892984.685185185\n",
      "Epoch 16\n",
      "-------------------------------\n",
      "loss: 2520857.500000  [    0/88675]\n",
      "loss: 2556606.000000  [25600/88675]\n",
      "loss: 3094479.750000  [51200/88675]\n",
      "loss: 2911192.000000  [76800/88675]\n",
      "Test Error: 2873777.6944444445\n",
      "Epoch 17\n",
      "-------------------------------\n",
      "loss: 2458982.500000  [    0/88675]\n",
      "loss: 2434256.000000  [25600/88675]\n",
      "loss: 2768786.250000  [51200/88675]\n",
      "loss: 2275876.000000  [76800/88675]\n",
      "Test Error: 2894841.5092592593\n",
      "Epoch 18\n",
      "-------------------------------\n",
      "loss: 2773957.500000  [    0/88675]\n",
      "loss: 2497501.250000  [25600/88675]\n",
      "loss: 2748313.750000  [51200/88675]\n",
      "loss: 2889515.500000  [76800/88675]\n",
      "Test Error: 2752755.722222222\n",
      "Epoch 19\n",
      "-------------------------------\n",
      "loss: 3039366.750000  [    0/88675]\n",
      "loss: 2888391.000000  [25600/88675]\n",
      "loss: 3230423.750000  [51200/88675]\n",
      "loss: 2591303.500000  [76800/88675]\n",
      "Test Error: 2726776.6666666665\n",
      "Epoch 20\n",
      "-------------------------------\n",
      "loss: 2672990.750000  [    0/88675]\n",
      "loss: 2578711.500000  [25600/88675]\n",
      "loss: 2611097.500000  [51200/88675]\n",
      "loss: 2800365.750000  [76800/88675]\n",
      "Test Error: 2698865.537037037\n",
      "Epoch 21\n",
      "-------------------------------\n",
      "loss: 2278873.500000  [    0/88675]\n",
      "loss: 2995590.000000  [25600/88675]\n",
      "loss: 2658448.250000  [51200/88675]\n",
      "loss: 2437713.000000  [76800/88675]\n",
      "Test Error: 2682272.1018518517\n",
      "Epoch 22\n",
      "-------------------------------\n",
      "loss: 2562520.500000  [    0/88675]\n",
      "loss: 2274617.000000  [25600/88675]\n",
      "loss: 2671575.250000  [51200/88675]\n",
      "loss: 2808114.500000  [76800/88675]\n",
      "Test Error: 2720359.638888889\n",
      "Epoch 23\n",
      "-------------------------------\n",
      "loss: 2776285.000000  [    0/88675]\n",
      "loss: 2644809.250000  [25600/88675]\n",
      "loss: 2326170.500000  [51200/88675]\n",
      "loss: 2636167.500000  [76800/88675]\n",
      "Test Error: 2796713.0185185187\n",
      "Epoch 24\n",
      "-------------------------------\n",
      "loss: 2609791.000000  [    0/88675]\n",
      "loss: 2331181.000000  [25600/88675]\n",
      "loss: 2371228.750000  [51200/88675]\n",
      "loss: 2276803.500000  [76800/88675]\n",
      "Test Error: 2659876.2314814813\n",
      "Epoch 25\n",
      "-------------------------------\n",
      "loss: 2722666.500000  [    0/88675]\n",
      "loss: 2398271.250000  [25600/88675]\n",
      "loss: 2685291.500000  [51200/88675]\n",
      "loss: 2986629.500000  [76800/88675]\n",
      "Test Error: 2644120.592592593\n",
      "Epoch 26\n",
      "-------------------------------\n",
      "loss: 2556405.000000  [    0/88675]\n",
      "loss: 2427233.750000  [25600/88675]\n",
      "loss: 2457879.250000  [51200/88675]\n",
      "loss: 2425254.500000  [76800/88675]\n",
      "Test Error: 2643288.592592593\n",
      "Epoch 27\n",
      "-------------------------------\n",
      "loss: 2472965.500000  [    0/88675]\n",
      "loss: 2932879.750000  [25600/88675]\n",
      "loss: 2808821.250000  [51200/88675]\n",
      "loss: 2625113.500000  [76800/88675]\n",
      "Test Error: 2617970.1296296297\n",
      "Epoch 28\n",
      "-------------------------------\n",
      "loss: 2310311.500000  [    0/88675]\n",
      "loss: 2250142.500000  [25600/88675]\n",
      "loss: 2661157.000000  [51200/88675]\n",
      "loss: 2632340.000000  [76800/88675]\n",
      "Test Error: 2617809.8981481483\n",
      "Epoch 29\n",
      "-------------------------------\n",
      "loss: 2641476.250000  [    0/88675]\n",
      "loss: 2467989.000000  [25600/88675]\n",
      "loss: 2761592.000000  [51200/88675]\n",
      "loss: 2617406.750000  [76800/88675]\n",
      "Test Error: 2615268.1944444445\n",
      "Epoch 30\n",
      "-------------------------------\n",
      "loss: 2610789.250000  [    0/88675]\n",
      "loss: 2693497.000000  [25600/88675]\n",
      "loss: 2397633.000000  [51200/88675]\n",
      "loss: 2455002.500000  [76800/88675]\n",
      "Test Error: 2604711.9907407407\n",
      "Epoch 31\n",
      "-------------------------------\n",
      "loss: 2742825.250000  [    0/88675]\n",
      "loss: 2529296.500000  [25600/88675]\n",
      "loss: 2352623.000000  [51200/88675]\n",
      "loss: 2642385.000000  [76800/88675]\n",
      "Test Error: 2588268.4814814813\n",
      "Epoch 32\n",
      "-------------------------------\n",
      "loss: 2527016.500000  [    0/88675]\n",
      "loss: 2525129.000000  [25600/88675]\n",
      "loss: 2741911.250000  [51200/88675]\n",
      "loss: 2335344.250000  [76800/88675]\n",
      "Test Error: 2635930.8333333335\n",
      "Epoch 33\n",
      "-------------------------------\n",
      "loss: 2436794.500000  [    0/88675]\n",
      "loss: 2288937.000000  [25600/88675]\n",
      "loss: 2786241.250000  [51200/88675]\n",
      "loss: 2756227.250000  [76800/88675]\n",
      "Test Error: 2588751.1666666665\n",
      "Epoch 34\n",
      "-------------------------------\n",
      "loss: 2617604.500000  [    0/88675]\n",
      "loss: 2851104.500000  [25600/88675]\n",
      "loss: 2068505.000000  [51200/88675]\n",
      "loss: 2073866.625000  [76800/88675]\n",
      "Test Error: 2612532.157407407\n",
      "Epoch 35\n",
      "-------------------------------\n",
      "loss: 2259822.000000  [    0/88675]\n",
      "loss: 2689206.500000  [25600/88675]\n",
      "loss: 2519742.000000  [51200/88675]\n",
      "loss: 2640144.250000  [76800/88675]\n",
      "Test Error: 2581553.962962963\n",
      "Epoch 36\n",
      "-------------------------------\n",
      "loss: 2710563.750000  [    0/88675]\n",
      "loss: 2447881.500000  [25600/88675]\n",
      "loss: 2816140.250000  [51200/88675]\n",
      "loss: 2152278.750000  [76800/88675]\n",
      "Test Error: 2583628.1666666665\n",
      "Epoch 37\n",
      "-------------------------------\n",
      "loss: 2393675.500000  [    0/88675]\n",
      "loss: 2506678.000000  [25600/88675]\n",
      "loss: 2574813.500000  [51200/88675]\n",
      "loss: 2618607.000000  [76800/88675]\n",
      "Test Error: 2567263.175925926\n",
      "Epoch 38\n",
      "-------------------------------\n",
      "loss: 2316419.000000  [    0/88675]\n",
      "loss: 2534822.500000  [25600/88675]\n",
      "loss: 2949648.000000  [51200/88675]\n",
      "loss: 2277431.250000  [76800/88675]\n",
      "Test Error: 2563059.4166666665\n",
      "Epoch 39\n",
      "-------------------------------\n"
     ]
    },
    {
     "name": "stdout",
     "output_type": "stream",
     "text": [
      "loss: 2504237.500000  [    0/88675]\n",
      "loss: 2422148.250000  [25600/88675]\n",
      "loss: 2429074.500000  [51200/88675]\n",
      "loss: 2457931.250000  [76800/88675]\n",
      "Test Error: 2571468.3055555555\n",
      "Epoch 40\n",
      "-------------------------------\n",
      "loss: 2699495.000000  [    0/88675]\n",
      "loss: 2546601.500000  [25600/88675]\n",
      "loss: 2025401.500000  [51200/88675]\n",
      "loss: 2338507.000000  [76800/88675]\n",
      "Test Error: 2561074.962962963\n",
      "Epoch 41\n",
      "-------------------------------\n",
      "loss: 2569600.000000  [    0/88675]\n",
      "loss: 2215575.000000  [25600/88675]\n",
      "loss: 2477492.000000  [51200/88675]\n",
      "loss: 2303478.000000  [76800/88675]\n",
      "Test Error: 2582101.574074074\n",
      "Epoch 42\n",
      "-------------------------------\n",
      "loss: 2670519.750000  [    0/88675]\n",
      "loss: 2693922.250000  [25600/88675]\n",
      "loss: 2623904.500000  [51200/88675]\n",
      "loss: 2561742.250000  [76800/88675]\n",
      "Test Error: 2564117.6481481483\n",
      "Epoch 43\n",
      "-------------------------------\n",
      "loss: 2571330.750000  [    0/88675]\n",
      "loss: 2326885.750000  [25600/88675]\n",
      "loss: 2301783.000000  [51200/88675]\n",
      "loss: 2598360.000000  [76800/88675]\n",
      "Test Error: 2561061.8055555555\n",
      "Epoch 44\n",
      "-------------------------------\n",
      "loss: 2398288.250000  [    0/88675]\n",
      "loss: 2750172.000000  [25600/88675]\n",
      "loss: 2529242.000000  [51200/88675]\n",
      "loss: 2422722.750000  [76800/88675]\n",
      "Test Error: 2555456.342592593\n",
      "Epoch 45\n",
      "-------------------------------\n",
      "loss: 2425241.500000  [    0/88675]\n",
      "loss: 2311732.500000  [25600/88675]\n",
      "loss: 2772763.500000  [51200/88675]\n",
      "loss: 2465253.500000  [76800/88675]\n",
      "Test Error: 2553340.435185185\n",
      "Epoch 46\n",
      "-------------------------------\n",
      "loss: 2356661.250000  [    0/88675]\n",
      "loss: 2274314.000000  [25600/88675]\n",
      "loss: 2726118.000000  [51200/88675]\n",
      "loss: 2088265.250000  [76800/88675]\n",
      "Test Error: 2588387.953703704\n",
      "Epoch 47\n",
      "-------------------------------\n",
      "loss: 2517673.500000  [    0/88675]\n",
      "loss: 2495974.250000  [25600/88675]\n",
      "loss: 2300709.500000  [51200/88675]\n",
      "loss: 2528028.500000  [76800/88675]\n",
      "Test Error: 2548675.4907407407\n",
      "Epoch 48\n",
      "-------------------------------\n",
      "loss: 2256151.500000  [    0/88675]\n",
      "loss: 2315242.500000  [25600/88675]\n",
      "loss: 2361548.000000  [51200/88675]\n",
      "loss: 2165411.250000  [76800/88675]\n",
      "Test Error: 2565476.1481481483\n",
      "Epoch 49\n",
      "-------------------------------\n",
      "loss: 2248768.500000  [    0/88675]\n",
      "loss: 2824776.250000  [25600/88675]\n",
      "loss: 2144531.000000  [51200/88675]\n",
      "loss: 2779580.000000  [76800/88675]\n",
      "Test Error: 2566300.814814815\n",
      "Epoch 50\n",
      "-------------------------------\n",
      "loss: 2580026.500000  [    0/88675]\n",
      "loss: 2361008.500000  [25600/88675]\n",
      "loss: 2095663.500000  [51200/88675]\n",
      "loss: 2577593.500000  [76800/88675]\n",
      "Test Error: 2549649.8796296297\n",
      "Done!\n",
      "CPU times: user 9min 37s, sys: 8min 47s, total: 18min 24s\n",
      "Wall time: 26min 42s\n"
     ]
    }
   ],
   "source": [
    "%%time\n",
    "epochs = 50\n",
    "lowest_loss = math.inf\n",
    "save_path = Path('weights')\n",
    "for t in range(epochs):\n",
    "    print(f\"Epoch {t+1}\\n-------------------------------\")\n",
    "    train_loop(train_dataloader, net, loss_fn, optimizer)\n",
    "    loss = test_loop(val_dataloader, net, loss_fn)\n",
    "    if loss < lowest_loss:\n",
    "        save_best_model(net, save_path)\n",
    "        lowest_loss = loss\n",
    "print(\"Done!\")"
   ]
  },
  {
   "cell_type": "code",
   "execution_count": 19,
   "id": "0c22cf4e",
   "metadata": {},
   "outputs": [],
   "source": [
    "load_best_model(net, save_path)"
   ]
  },
  {
   "cell_type": "markdown",
   "id": "a007582f",
   "metadata": {},
   "source": [
    "## Validation"
   ]
  },
  {
   "cell_type": "code",
   "execution_count": 20,
   "id": "39e5cc10",
   "metadata": {},
   "outputs": [],
   "source": [
    "def create_submission(dataloader, model):\n",
    "        \n",
    "    predictions = []\n",
    "    targets = []\n",
    "    model.eval()\n",
    "    with torch.no_grad():\n",
    "        for hl_feats, hits, labels in dataloader:\n",
    "            hits = hits.to(net.device)\n",
    "            predictions.append(model(hits).cpu().detach().numpy())\n",
    "            targets.append(labels)\n",
    "    predictions = np.concatenate(predictions, axis=0)\n",
    "    targets = np.concatenate(targets, axis=0)\n",
    "    return predictions, targets"
   ]
  },
  {
   "cell_type": "code",
   "execution_count": 21,
   "id": "379a67e6",
   "metadata": {},
   "outputs": [],
   "source": [
    "preds, targs = create_submission(val_dataloader, net)"
   ]
  },
  {
   "cell_type": "code",
   "execution_count": 22,
   "id": "96d4fb06",
   "metadata": {},
   "outputs": [],
   "source": [
    "df = pd.DataFrame({'pred': preds.squeeze(), 'target': targs})"
   ]
  },
  {
   "cell_type": "code",
   "execution_count": 23,
   "id": "1a106c8a",
   "metadata": {},
   "outputs": [
    {
     "data": {
      "text/html": [
       "<div>\n",
       "<style scoped>\n",
       "    .dataframe tbody tr th:only-of-type {\n",
       "        vertical-align: middle;\n",
       "    }\n",
       "\n",
       "    .dataframe tbody tr th {\n",
       "        vertical-align: top;\n",
       "    }\n",
       "\n",
       "    .dataframe thead th {\n",
       "        text-align: right;\n",
       "    }\n",
       "</style>\n",
       "<table border=\"1\" class=\"dataframe\">\n",
       "  <thead>\n",
       "    <tr style=\"text-align: right;\">\n",
       "      <th></th>\n",
       "      <th>pred</th>\n",
       "      <th>target</th>\n",
       "    </tr>\n",
       "  </thead>\n",
       "  <tbody>\n",
       "    <tr>\n",
       "      <th>0</th>\n",
       "      <td>5101.260742</td>\n",
       "      <td>5709.742676</td>\n",
       "    </tr>\n",
       "    <tr>\n",
       "      <th>1</th>\n",
       "      <td>4591.419922</td>\n",
       "      <td>5540.189453</td>\n",
       "    </tr>\n",
       "    <tr>\n",
       "      <th>2</th>\n",
       "      <td>6563.444824</td>\n",
       "      <td>2945.265869</td>\n",
       "    </tr>\n",
       "    <tr>\n",
       "      <th>3</th>\n",
       "      <td>4594.909180</td>\n",
       "      <td>5475.326660</td>\n",
       "    </tr>\n",
       "    <tr>\n",
       "      <th>4</th>\n",
       "      <td>5829.591797</td>\n",
       "      <td>7548.465332</td>\n",
       "    </tr>\n",
       "  </tbody>\n",
       "</table>\n",
       "</div>"
      ],
      "text/plain": [
       "          pred       target\n",
       "0  5101.260742  5709.742676\n",
       "1  4591.419922  5540.189453\n",
       "2  6563.444824  2945.265869\n",
       "3  4594.909180  5475.326660\n",
       "4  5829.591797  7548.465332"
      ]
     },
     "execution_count": 23,
     "metadata": {},
     "output_type": "execute_result"
    }
   ],
   "source": [
    "df.head()"
   ]
  },
  {
   "cell_type": "code",
   "execution_count": 24,
   "id": "fd05894f",
   "metadata": {},
   "outputs": [
    {
     "data": {
      "image/png": "[encoded data removed]",
      "text/plain": [
       "<Figure size 1024x576 with 1 Axes>"
      ]
     },
     "metadata": {},
     "output_type": "display_data"
    },
    {
     "data": {
      "text/plain": [
       "0.11850222426439076"
      ]
     },
     "execution_count": 24,
     "metadata": {},
     "output_type": "execute_result"
    }
   ],
   "source": [
    "compute_improvement(df)"
   ]
  },
  {
   "cell_type": "markdown",
   "id": "68b56f2b",
   "metadata": {},
   "source": [
    "## Submission"
   ]
  },
  {
   "cell_type": "code",
   "execution_count": null,
   "id": "bfda389b",
   "metadata": {},
   "outputs": [],
   "source": [
    "del training_data, train_dataloader, val_data, val_dataloader"
   ]
  },
  {
   "cell_type": "code",
   "execution_count": 37,
   "id": "b85a993c",
   "metadata": {},
   "outputs": [],
   "source": [
    "sub_data = MuonData(PATH/'muon_calo_test.hdf5')"
   ]
  },
  {
   "cell_type": "code",
   "execution_count": 38,
   "id": "c3233b84",
   "metadata": {},
   "outputs": [],
   "source": [
    "sub_dataloader = DataLoader(sub_data, batch_size=1000, shuffle=False, num_workers=4)"
   ]
  },
  {
   "cell_type": "code",
   "execution_count": 39,
   "id": "98c0ca6c",
   "metadata": {},
   "outputs": [
    {
     "name": "stdout",
     "output_type": "stream",
     "text": [
      "deleted\n",
      "deleted\n",
      "deleteddeleted\n",
      "\n"
     ]
    }
   ],
   "source": [
    "preds,_ = create_submission(sub_dataloader, net)"
   ]
  },
  {
   "cell_type": "code",
   "execution_count": 40,
   "id": "556a9b5f",
   "metadata": {},
   "outputs": [],
   "source": [
    "df = pd.DataFrame(preds, columns=[\"prediction\"])"
   ]
  },
  {
   "cell_type": "code",
   "execution_count": 41,
   "id": "8a0656da",
   "metadata": {},
   "outputs": [
    {
     "data": {
      "text/html": [
       "<div>\n",
       "<style scoped>\n",
       "    .dataframe tbody tr th:only-of-type {\n",
       "        vertical-align: middle;\n",
       "    }\n",
       "\n",
       "    .dataframe tbody tr th {\n",
       "        vertical-align: top;\n",
       "    }\n",
       "\n",
       "    .dataframe thead th {\n",
       "        text-align: right;\n",
       "    }\n",
       "</style>\n",
       "<table border=\"1\" class=\"dataframe\">\n",
       "  <thead>\n",
       "    <tr style=\"text-align: right;\">\n",
       "      <th></th>\n",
       "      <th>prediction</th>\n",
       "    </tr>\n",
       "  </thead>\n",
       "  <tbody>\n",
       "    <tr>\n",
       "      <th>0</th>\n",
       "      <td>1281.522217</td>\n",
       "    </tr>\n",
       "    <tr>\n",
       "      <th>1</th>\n",
       "      <td>5418.889160</td>\n",
       "    </tr>\n",
       "    <tr>\n",
       "      <th>2</th>\n",
       "      <td>6039.638184</td>\n",
       "    </tr>\n",
       "    <tr>\n",
       "      <th>3</th>\n",
       "      <td>5037.421875</td>\n",
       "    </tr>\n",
       "    <tr>\n",
       "      <th>4</th>\n",
       "      <td>2838.672363</td>\n",
       "    </tr>\n",
       "  </tbody>\n",
       "</table>\n",
       "</div>"
      ],
      "text/plain": [
       "    prediction\n",
       "0  1281.522217\n",
       "1  5418.889160\n",
       "2  6039.638184\n",
       "3  5037.421875\n",
       "4  2838.672363"
      ]
     },
     "execution_count": 41,
     "metadata": {},
     "output_type": "execute_result"
    }
   ],
   "source": [
    "df.head()"
   ]
  },
  {
   "cell_type": "code",
   "execution_count": 42,
   "id": "f798e75c",
   "metadata": {},
   "outputs": [],
   "source": [
    "df.to_csv(\"test.csv\")"
   ]
  },
  {
   "cell_type": "code",
   "execution_count": 43,
   "id": "ee9c1098",
   "metadata": {},
   "outputs": [
    {
     "name": "stdout",
     "output_type": "stream",
     "text": [
      "deleted\n"
     ]
    }
   ],
   "source": [
    "del sub_data, sub_dataloader"
   ]
  },
  {
   "cell_type": "code",
   "execution_count": null,
   "id": "587db710",
   "metadata": {},
   "outputs": [],
   "source": []
  }
 ],
 "metadata": {
  "kernelspec": {
   "display_name": "Python 3",
   "language": "python",
   "name": "python3"
  },
  "language_info": {
   "codemirror_mode": {
    "name": "ipython",
    "version": 3
   },
   "file_extension": ".py",
   "mimetype": "text/x-python",
   "name": "python",
   "nbconvert_exporter": "python",
   "pygments_lexer": "ipython3",
   "version": "3.6.8"
  }
 },
 "nbformat": 4,
 "nbformat_minor": 5
}
